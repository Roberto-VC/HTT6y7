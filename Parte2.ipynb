version https://git-lfs.github.com/spec/v1
oid sha256:e845efe4765ff290655b638d7bd9c19d887469b3ae8f0a1292576aafaad662fe
size 122392
