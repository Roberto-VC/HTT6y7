{
 "cells": [
  {
   "cell_type": "markdown",
   "metadata": {},
   "source": [
    "# Ejemplo básico con TensorFlow 2.0\n",
    "\n",
    "En este ejercicio vamos a recrear nuestro algoritmo de aprendizaje utilizando TF 2."
   ]
  },
  {
   "cell_type": "markdown",
   "metadata": {},
   "source": [
    "## Importar las librerías relevantes"
   ]
  },
  {
   "cell_type": "code",
   "execution_count": 1,
   "metadata": {},
   "outputs": [],
   "source": [
    "import numpy as np\n",
    "import plotly.express as px\n",
    "import matplotlib.pyplot as plt\n",
    "import tensorflow as tf"
   ]
  },
  {
   "cell_type": "markdown",
   "metadata": {},
   "source": [
    "## Generación de datos\n",
    "\n",
    "Se generan los datos de la misma manera que lo hicimos en el ejercicio anterior.  La única diferencia es que ahora se guardan los datos en un archivo *.npz*.  NPZ es un tipo de archivo propio de NumPy que permite guardar arreglos NumPy.  Se introduce este cambio porque en el ML a menudo:\n",
    "\n",
    "* se reciben datos (csv, base de datos, etc.)\n",
    "* se preprocesan los datos y se dejan en un formato deseado (se verá este tema después)\n",
    "* se guardan los datos en archivos npz (si es que se está trabajando con Python) para uso posterior\n",
    "\n",
    "No hay nada especial de todo esto.  Solo se guardan arreglos NumPy en un archivo re-utlizable.\n",
    "\n",
    "Se trabajará con dos variables de entrada, x1 y x2.  Estas se generan al azar a partir de una distribución uniforme.\n",
    "\n",
    "Se creará una matriz con estas dos variables.  La matriz X del modelo lineal y = x * w + b"
   ]
  },
  {
   "cell_type": "code",
   "execution_count": 2,
   "metadata": {},
   "outputs": [],
   "source": [
    "# Por facilidad, declaramos una variable que indique el tamaño del conjunto \n",
    "#      de datos de entrenamiento.\n",
    "observaciones = 1000\n",
    "\n",
    "x1 = np.random.uniform(low = -10, high = 10, size = (observaciones,1))\n",
    "x2 = np.random.uniform(-10, 10, (observaciones,1)) # nótese que no se requieren las palabras clave\n",
    "\n",
    "X = np.column_stack((x1,x2))\n",
    "\n"
   ]
  },
  {
   "cell_type": "code",
   "execution_count": null,
   "metadata": {},
   "outputs": [],
   "source": []
  },
  {
   "cell_type": "markdown",
   "metadata": {},
   "source": [
    "### Generar las metas a las que debemos apuntar\n",
    "\n",
    "La función a usar: \n",
    "\n",
    "f(x1, x2) = 2 * x1 - 3 * x2 + 5 + <ruido pequeño>\n",
    "\n",
    "El ruido es para hacerlo más realista.\n",
    "\n",
    "En esencia, se puede ver que los pesos serán 2 y -3, y es sesgo es 5\n",
    "\n",
    "Utilizando la metodología de ML, se vé si el algoritmo ha aprendido la función. "
   ]
  },
  {
   "cell_type": "code",
   "execution_count": 3,
   "metadata": {},
   "outputs": [],
   "source": [
    "ruido = np.random.uniform(-1, 1, (observaciones,1))\n",
    "\n",
    "y = 2 * x1 - 3 * x2 + 5 + ruido"
   ]
  },
  {
   "cell_type": "markdown",
   "metadata": {},
   "source": [
    "Hasta ahora todo ha sido igual.  El siguiente paso sí es nuevo y es que se guarda la información en un archivo *.npz* que se ha denominado \"Datos_TF)"
   ]
  },
  {
   "cell_type": "code",
   "execution_count": 4,
   "metadata": {},
   "outputs": [],
   "source": [
    "np.savez('Datos_TF', entradas = X, targets = y)  # nótese que se puede usar cualquier nombre"
   ]
  },
  {
   "cell_type": "markdown",
   "metadata": {},
   "source": [
    "## Resolver con TensorFlow\n",
    "\n",
    "<i/>Nota: Esta introducción de TensorFloe es muy básica.  El TF tiene muchas más capacidaded y profundidad que esto.<i>"
   ]
  },
  {
   "cell_type": "code",
   "execution_count": 5,
   "metadata": {},
   "outputs": [],
   "source": [
    "# Se cargan los datos desde el archivo NPZ.  Por supuesto, esto no era necesario acá\n",
    "datos = np.load('Datos_TF.npz')"
   ]
  },
  {
   "cell_type": "markdown",
   "metadata": {},
   "source": [
    "En el ejercicio anterior se tuvieron que dar valores iniciales, acá solo se dan:\n",
    "\n",
    "1.  El número de variables de entrada\n",
    "2.  El número de salidas que tenemos"
   ]
  },
  {
   "cell_type": "code",
   "execution_count": 6,
   "metadata": {},
   "outputs": [],
   "source": [
    "tamanio_entrada = 2\n",
    "\n",
    "tamanio_salida = 1"
   ]
  },
  {
   "cell_type": "markdown",
   "metadata": {},
   "source": [
    "### Describir el modelo\n",
    "\n",
    "En otras aplicaciones simplemente se usa un modelo que ya se haya hecho.  Con TensorFlow hay que armarlo\n",
    "\n",
    "Como el ejemplo es muy simple...es lineal...se utiliza el método **\"Sequential\"**\n",
    "\n",
    "Nótese que no se pide cálculo alguno - solo se describe la red\n",
    "\n",
    "Acá se debe listar cada capa \"layer\" de la red neuronal\n",
    "\n",
    "El método **\"Dense\"** realiza una operación matemática **.dot(u, v) + z**.  Esto es exactamente lo que que se necesita: (xw + b)\n",
    "\n",
    "El único parámetro necesario es el tamaño de la salida **tamanio_salida** en el código\n",
    "\n",
    "Hay otros parámetros que se pueden incluir para particularizar el modelo, en este caso, se está tratando de crear una solución que sea tan parecida a la del modelo NumPy anterior por lo que se agregan:\n",
    "\n",
    "* kernel_initializer   -   kernel es un término más generalizado para los pesos\n",
    "* bias_initializer     -   sesgo"
   ]
  },
  {
   "cell_type": "code",
   "execution_count": 7,
   "metadata": {},
   "outputs": [],
   "source": [
    "modelo = tf.keras.Sequential([                    \n",
    "  tf.keras.layers.Dense(\n",
    "    tamanio_salida,\n",
    "    kernel_initializer = tf.random_uniform_initializer(minval = -0.1, maxval = 0.1),\n",
    "    bias_initializer = tf.random_uniform_initializer(minval = -0.1, maxval = 0.1)\n",
    "  )\n",
    "])"
   ]
  },
  {
   "cell_type": "markdown",
   "metadata": {},
   "source": [
    "También se puede definir un optimizador a la medida, en el que se puede especificar la tasa de aprendizaje. De los que hay disponibles, el SGD (Stochastic Gradient Descent) es una generalización de la que se platicó en clase, sin darle nombre."
   ]
  },
  {
   "cell_type": "code",
   "execution_count": 8,
   "metadata": {},
   "outputs": [],
   "source": [
    "optimizador_adhoc = tf.keras.optimizers.SGD(learning_rate = 0.02)"
   ]
  },
  {
   "cell_type": "markdown",
   "metadata": {},
   "source": [
    "Para la función de pérdida, se utilizará la de **L2-norm**.  Esta también se conoce como **Least sum of squares (Least sum of squares error)**.  El escalamiento se logra obteniendo la media para el # de observaciones.  Esto es justamente lo que hace el **mean squared error**\n",
    "\n",
    "En algún momento, podría ser necesario una función de pérdida hecha a la medida.  Eso es mucho más difícil implementar y no se trabajará en este curso."
   ]
  },
  {
   "cell_type": "markdown",
   "metadata": {},
   "source": [
    "**\"compile\"** es donde se pueden indicar los optimizadores y la pérdida."
   ]
  },
  {
   "cell_type": "code",
   "execution_count": 11,
   "metadata": {},
   "outputs": [],
   "source": [
    "modelo.compile(optimizer = optimizador_adhoc, loss='huber_loss')"
   ]
  },
  {
   "cell_type": "markdown",
   "metadata": {},
   "source": [
    "Finalmente, se ajusta el modelo con los datos (o se modelan los datos), indicando las *entradas* y los *targets*...así se denominaron al guardar el archivo.  \n",
    "\n",
    "En vez de usar el término *iteraciones*, se utiliza el término *épocas*.  Si no se especifica el número de épocas este será 1 (una sola época de entrenamiento), así que este número es algo obligatorio.\n",
    "\n",
    "El parámetro **\"verbose\"** se refiere a cuánta información queremos que despliegue durante la ejecución.  Se vale probar diferentes números...se prueban los valores 0, 1 y 2"
   ]
  },
  {
   "cell_type": "code",
   "execution_count": 12,
   "metadata": {},
   "outputs": [
    {
     "name": "stdout",
     "output_type": "stream",
     "text": [
      "Epoch 1/100\n",
      "32/32 - 2s - loss: 10.8134 - 2s/epoch - 69ms/step\n",
      "Epoch 2/100\n",
      "32/32 - 0s - loss: 4.1270 - 35ms/epoch - 1ms/step\n",
      "Epoch 3/100\n",
      "32/32 - 0s - loss: 3.4047 - 40ms/epoch - 1ms/step\n",
      "Epoch 4/100\n",
      "32/32 - 0s - loss: 2.8076 - 36ms/epoch - 1ms/step\n",
      "Epoch 5/100\n",
      "32/32 - 0s - loss: 2.2052 - 43ms/epoch - 1ms/step\n",
      "Epoch 6/100\n",
      "32/32 - 0s - loss: 1.6118 - 43ms/epoch - 1ms/step\n",
      "Epoch 7/100\n",
      "32/32 - 0s - loss: 1.0414 - 45ms/epoch - 1ms/step\n",
      "Epoch 8/100\n",
      "32/32 - 0s - loss: 0.5901 - 82ms/epoch - 3ms/step\n",
      "Epoch 9/100\n",
      "32/32 - 0s - loss: 0.3372 - 51ms/epoch - 2ms/step\n",
      "Epoch 10/100\n",
      "32/32 - 0s - loss: 0.2323 - 35ms/epoch - 1ms/step\n",
      "Epoch 11/100\n",
      "32/32 - 0s - loss: 0.1953 - 42ms/epoch - 1ms/step\n",
      "Epoch 12/100\n",
      "32/32 - 0s - loss: 0.1840 - 40ms/epoch - 1ms/step\n",
      "Epoch 13/100\n",
      "32/32 - 0s - loss: 0.1801 - 48ms/epoch - 2ms/step\n",
      "Epoch 14/100\n",
      "32/32 - 0s - loss: 0.1755 - 33ms/epoch - 1ms/step\n",
      "Epoch 15/100\n",
      "32/32 - 0s - loss: 0.1749 - 32ms/epoch - 1000us/step\n",
      "Epoch 16/100\n",
      "32/32 - 0s - loss: 0.1744 - 36ms/epoch - 1ms/step\n",
      "Epoch 17/100\n",
      "32/32 - 0s - loss: 0.1746 - 33ms/epoch - 1ms/step\n",
      "Epoch 18/100\n",
      "32/32 - 0s - loss: 0.1789 - 29ms/epoch - 906us/step\n",
      "Epoch 19/100\n",
      "32/32 - 0s - loss: 0.1770 - 32ms/epoch - 1ms/step\n",
      "Epoch 20/100\n",
      "32/32 - 0s - loss: 0.1775 - 32ms/epoch - 1ms/step\n",
      "Epoch 21/100\n",
      "32/32 - 0s - loss: 0.1779 - 33ms/epoch - 1ms/step\n",
      "Epoch 22/100\n",
      "32/32 - 0s - loss: 0.1787 - 36ms/epoch - 1ms/step\n",
      "Epoch 23/100\n",
      "32/32 - 0s - loss: 0.1754 - 40ms/epoch - 1ms/step\n",
      "Epoch 24/100\n",
      "32/32 - 0s - loss: 0.1791 - 39ms/epoch - 1ms/step\n",
      "Epoch 25/100\n",
      "32/32 - 0s - loss: 0.1779 - 39ms/epoch - 1ms/step\n",
      "Epoch 26/100\n",
      "32/32 - 0s - loss: 0.1764 - 39ms/epoch - 1ms/step\n",
      "Epoch 27/100\n",
      "32/32 - 0s - loss: 0.1724 - 39ms/epoch - 1ms/step\n",
      "Epoch 28/100\n",
      "32/32 - 0s - loss: 0.1770 - 46ms/epoch - 1ms/step\n",
      "Epoch 29/100\n",
      "32/32 - 0s - loss: 0.1783 - 41ms/epoch - 1ms/step\n",
      "Epoch 30/100\n",
      "32/32 - 0s - loss: 0.1735 - 36ms/epoch - 1ms/step\n",
      "Epoch 31/100\n",
      "32/32 - 0s - loss: 0.1812 - 44ms/epoch - 1ms/step\n",
      "Epoch 32/100\n",
      "32/32 - 0s - loss: 0.1786 - 42ms/epoch - 1ms/step\n",
      "Epoch 33/100\n",
      "32/32 - 0s - loss: 0.1759 - 36ms/epoch - 1ms/step\n",
      "Epoch 34/100\n",
      "32/32 - 0s - loss: 0.1735 - 36ms/epoch - 1ms/step\n",
      "Epoch 35/100\n",
      "32/32 - 0s - loss: 0.1728 - 35ms/epoch - 1ms/step\n",
      "Epoch 36/100\n",
      "32/32 - 0s - loss: 0.1767 - 30ms/epoch - 937us/step\n",
      "Epoch 37/100\n",
      "32/32 - 0s - loss: 0.1787 - 55ms/epoch - 2ms/step\n",
      "Epoch 38/100\n",
      "32/32 - 0s - loss: 0.1780 - 40ms/epoch - 1ms/step\n",
      "Epoch 39/100\n",
      "32/32 - 0s - loss: 0.1769 - 32ms/epoch - 999us/step\n",
      "Epoch 40/100\n",
      "32/32 - 0s - loss: 0.1767 - 33ms/epoch - 1ms/step\n",
      "Epoch 41/100\n",
      "32/32 - 0s - loss: 0.1799 - 31ms/epoch - 969us/step\n",
      "Epoch 42/100\n",
      "32/32 - 0s - loss: 0.1780 - 29ms/epoch - 906us/step\n",
      "Epoch 43/100\n",
      "32/32 - 0s - loss: 0.1753 - 35ms/epoch - 1ms/step\n",
      "Epoch 44/100\n",
      "32/32 - 0s - loss: 0.1791 - 30ms/epoch - 936us/step\n",
      "Epoch 45/100\n",
      "32/32 - 0s - loss: 0.1773 - 34ms/epoch - 1ms/step\n",
      "Epoch 46/100\n",
      "32/32 - 0s - loss: 0.1742 - 37ms/epoch - 1ms/step\n",
      "Epoch 47/100\n",
      "32/32 - 0s - loss: 0.1753 - 33ms/epoch - 1ms/step\n",
      "Epoch 48/100\n",
      "32/32 - 0s - loss: 0.1771 - 41ms/epoch - 1ms/step\n",
      "Epoch 49/100\n",
      "32/32 - 0s - loss: 0.1767 - 33ms/epoch - 1ms/step\n",
      "Epoch 50/100\n",
      "32/32 - 0s - loss: 0.1761 - 32ms/epoch - 1ms/step\n",
      "Epoch 51/100\n",
      "32/32 - 0s - loss: 0.1740 - 31ms/epoch - 968us/step\n",
      "Epoch 52/100\n",
      "32/32 - 0s - loss: 0.1757 - 32ms/epoch - 1ms/step\n",
      "Epoch 53/100\n",
      "32/32 - 0s - loss: 0.1763 - 34ms/epoch - 1ms/step\n",
      "Epoch 54/100\n",
      "32/32 - 0s - loss: 0.1809 - 36ms/epoch - 1ms/step\n",
      "Epoch 55/100\n",
      "32/32 - 0s - loss: 0.1786 - 32ms/epoch - 1000us/step\n",
      "Epoch 56/100\n",
      "32/32 - 0s - loss: 0.1768 - 33ms/epoch - 1ms/step\n",
      "Epoch 57/100\n",
      "32/32 - 0s - loss: 0.1786 - 32ms/epoch - 1ms/step\n",
      "Epoch 58/100\n",
      "32/32 - 0s - loss: 0.1754 - 31ms/epoch - 970us/step\n",
      "Epoch 59/100\n",
      "32/32 - 0s - loss: 0.1762 - 35ms/epoch - 1ms/step\n",
      "Epoch 60/100\n",
      "32/32 - 0s - loss: 0.1753 - 33ms/epoch - 1ms/step\n",
      "Epoch 61/100\n",
      "32/32 - 0s - loss: 0.1751 - 33ms/epoch - 1ms/step\n",
      "Epoch 62/100\n",
      "32/32 - 0s - loss: 0.1785 - 32ms/epoch - 1ms/step\n",
      "Epoch 63/100\n",
      "32/32 - 0s - loss: 0.1811 - 37ms/epoch - 1ms/step\n",
      "Epoch 64/100\n",
      "32/32 - 0s - loss: 0.1741 - 31ms/epoch - 969us/step\n",
      "Epoch 65/100\n",
      "32/32 - 0s - loss: 0.1758 - 33ms/epoch - 1ms/step\n",
      "Epoch 66/100\n",
      "32/32 - 0s - loss: 0.1800 - 35ms/epoch - 1ms/step\n",
      "Epoch 67/100\n",
      "32/32 - 0s - loss: 0.1796 - 31ms/epoch - 970us/step\n",
      "Epoch 68/100\n",
      "32/32 - 0s - loss: 0.1776 - 44ms/epoch - 1ms/step\n",
      "Epoch 69/100\n",
      "32/32 - 0s - loss: 0.1774 - 35ms/epoch - 1ms/step\n",
      "Epoch 70/100\n",
      "32/32 - 0s - loss: 0.1782 - 33ms/epoch - 1ms/step\n",
      "Epoch 71/100\n",
      "32/32 - 0s - loss: 0.1771 - 33ms/epoch - 1ms/step\n",
      "Epoch 72/100\n",
      "32/32 - 0s - loss: 0.1760 - 31ms/epoch - 969us/step\n",
      "Epoch 73/100\n",
      "32/32 - 0s - loss: 0.1761 - 29ms/epoch - 906us/step\n",
      "Epoch 74/100\n",
      "32/32 - 0s - loss: 0.1769 - 31ms/epoch - 968us/step\n",
      "Epoch 75/100\n",
      "32/32 - 0s - loss: 0.1757 - 29ms/epoch - 906us/step\n",
      "Epoch 76/100\n",
      "32/32 - 0s - loss: 0.1769 - 31ms/epoch - 968us/step\n",
      "Epoch 77/100\n",
      "32/32 - 0s - loss: 0.1738 - 35ms/epoch - 1ms/step\n",
      "Epoch 78/100\n",
      "32/32 - 0s - loss: 0.1792 - 32ms/epoch - 999us/step\n",
      "Epoch 79/100\n",
      "32/32 - 0s - loss: 0.1777 - 30ms/epoch - 937us/step\n",
      "Epoch 80/100\n",
      "32/32 - 0s - loss: 0.1799 - 42ms/epoch - 1ms/step\n",
      "Epoch 81/100\n",
      "32/32 - 0s - loss: 0.1775 - 47ms/epoch - 1ms/step\n",
      "Epoch 82/100\n",
      "32/32 - 0s - loss: 0.1766 - 43ms/epoch - 1ms/step\n",
      "Epoch 83/100\n",
      "32/32 - 0s - loss: 0.1745 - 38ms/epoch - 1ms/step\n",
      "Epoch 84/100\n",
      "32/32 - 0s - loss: 0.1749 - 33ms/epoch - 1ms/step\n",
      "Epoch 85/100\n",
      "32/32 - 0s - loss: 0.1753 - 30ms/epoch - 937us/step\n",
      "Epoch 86/100\n",
      "32/32 - 0s - loss: 0.1789 - 31ms/epoch - 968us/step\n",
      "Epoch 87/100\n",
      "32/32 - 0s - loss: 0.1786 - 34ms/epoch - 1ms/step\n",
      "Epoch 88/100\n",
      "32/32 - 0s - loss: 0.1736 - 33ms/epoch - 1ms/step\n",
      "Epoch 89/100\n",
      "32/32 - 0s - loss: 0.1767 - 36ms/epoch - 1ms/step\n",
      "Epoch 90/100\n",
      "32/32 - 0s - loss: 0.1770 - 33ms/epoch - 1ms/step\n",
      "Epoch 91/100\n",
      "32/32 - 0s - loss: 0.1789 - 37ms/epoch - 1ms/step\n",
      "Epoch 92/100\n",
      "32/32 - 0s - loss: 0.1763 - 35ms/epoch - 1ms/step\n",
      "Epoch 93/100\n",
      "32/32 - 0s - loss: 0.1814 - 38ms/epoch - 1ms/step\n",
      "Epoch 94/100\n",
      "32/32 - 0s - loss: 0.1781 - 32ms/epoch - 1ms/step\n",
      "Epoch 95/100\n",
      "32/32 - 0s - loss: 0.1796 - 30ms/epoch - 938us/step\n",
      "Epoch 96/100\n",
      "32/32 - 0s - loss: 0.1758 - 32ms/epoch - 999us/step\n",
      "Epoch 97/100\n",
      "32/32 - 0s - loss: 0.1762 - 34ms/epoch - 1ms/step\n",
      "Epoch 98/100\n",
      "32/32 - 0s - loss: 0.1743 - 33ms/epoch - 1ms/step\n",
      "Epoch 99/100\n",
      "32/32 - 0s - loss: 0.1732 - 34ms/epoch - 1ms/step\n",
      "Epoch 100/100\n",
      "32/32 - 0s - loss: 0.1788 - 36ms/epoch - 1ms/step\n"
     ]
    },
    {
     "data": {
      "text/plain": [
       "<keras.callbacks.History at 0x1a6c89f3820>"
      ]
     },
     "execution_count": 12,
     "metadata": {},
     "output_type": "execute_result"
    }
   ],
   "source": [
    "modelo.fit(datos['entradas'], datos['targets'], epochs = 100, verbose = 2)"
   ]
  },
  {
   "cell_type": "markdown",
   "metadata": {
    "tags": []
   },
   "source": [
    "## Extracción de los pesos y sesgos\n",
    "\n",
    "La extracción de el(los) peso(s) y sesgo(s) de un modelo no es un paso esencial para el proceso de ML.  De hecho, en un contexto de aprendizaje profundo, no da mucha información útil.  Sin embargo, este ejemplo simple se armó de tal forma que permite verificar si las respuestas que da el modelo son correctas."
   ]
  },
  {
   "cell_type": "code",
   "execution_count": 13,
   "metadata": {},
   "outputs": [
    {
     "data": {
      "text/plain": [
       "[array([[ 1.9803097],\n",
       "        [-3.0533733]], dtype=float32),\n",
       " array([5.045106], dtype=float32)]"
      ]
     },
     "execution_count": 13,
     "metadata": {},
     "output_type": "execute_result"
    }
   ],
   "source": [
    "modelo.layers[0].get_weights()    # el cero (0) es porque solo tenemos una capa"
   ]
  },
  {
   "cell_type": "markdown",
   "metadata": {},
   "source": [
    "Se pueden almacenar los pesos y los sesgos en variables diferentes para facilitar la revisión.\n",
    "\n",
    "OJO!   Pueden haber cientos o miles de estos!!!!"
   ]
  },
  {
   "cell_type": "code",
   "execution_count": 14,
   "metadata": {},
   "outputs": [
    {
     "data": {
      "text/plain": [
       "array([[ 1.9803097],\n",
       "       [-3.0533733]], dtype=float32)"
      ]
     },
     "execution_count": 14,
     "metadata": {},
     "output_type": "execute_result"
    }
   ],
   "source": [
    "pesos = modelo.layers[0].get_weights()[0]\n",
    "pesos"
   ]
  },
  {
   "cell_type": "code",
   "execution_count": 15,
   "metadata": {},
   "outputs": [
    {
     "data": {
      "text/plain": [
       "array([5.045106], dtype=float32)"
      ]
     },
     "execution_count": 15,
     "metadata": {},
     "output_type": "execute_result"
    }
   ],
   "source": [
    "\n",
    "sesgos = modelo.layers[0].get_weights()[1]\n",
    "sesgos"
   ]
  },
  {
   "cell_type": "markdown",
   "metadata": {},
   "source": [
    "## Hacer predicciones\n",
    "\n",
    "Una vez más, este no es un paso esencial, sin embargo, generalmente sí se desean hacer predicciones.\n",
    "\n",
    "Se puede pedirle al modelo que prediga nuevos valores.  A veces es útil redondear los valores para que la salida sea más legible.  \n",
    "\n",
    "Generalmente se utiliza este método con DATOS NUEVOS, en vez de usar los datos de entrenamiento originales."
   ]
  },
  {
   "cell_type": "code",
   "execution_count": 16,
   "metadata": {},
   "outputs": [
    {
     "data": {
      "text/plain": [
       "array([[ 25.7],\n",
       "       [ 17.2],\n",
       "       [ 10.3],\n",
       "       [ 29.1],\n",
       "       [-14.9]], dtype=float32)"
      ]
     },
     "execution_count": 16,
     "metadata": {},
     "output_type": "execute_result"
    }
   ],
   "source": [
    "modelo.predict_on_batch(datos['entradas']).round(1)[:5, :]"
   ]
  },
  {
   "cell_type": "markdown",
   "metadata": {},
   "source": [
    "Si se despliegan la metas (valores reales), se pueden comparar visualmente con las predicciones."
   ]
  },
  {
   "cell_type": "code",
   "execution_count": 17,
   "metadata": {},
   "outputs": [
    {
     "data": {
      "text/plain": [
       "array([[ 26.5],\n",
       "       [ 17.9],\n",
       "       [ 10.2],\n",
       "       [ 28.1],\n",
       "       [-14.7]])"
      ]
     },
     "execution_count": 17,
     "metadata": {},
     "output_type": "execute_result"
    }
   ],
   "source": [
    "datos['targets'].round(1)[:5, :]"
   ]
  },
  {
   "cell_type": "markdown",
   "metadata": {},
   "source": [
    "## Graficar los datos\n",
    "\n",
    "El modelo está ya optimizado, por lo que las salidas se han calculado sobre la última forma, o el último estado, del modelo.\n",
    "\n",
    "Es necesario comprimir o empacar **\"squeeze\"** los arreglos para dejarlos en un formato que es el esperado por la función graficadora.  No cambia nada ya que se dejaron dimensiones de tamaño 1 - solo es un tecnisismo"
   ]
  },
  {
   "cell_type": "markdown",
   "metadata": {},
   "source": [
    "### Con matplotlib"
   ]
  },
  {
   "cell_type": "code",
   "execution_count": 18,
   "metadata": {},
   "outputs": [
    {
     "data": {
      "image/png": "[encoded data removed]",
      "text/plain": [
       "<Figure size 432x288 with 1 Axes>"
      ]
     },
     "metadata": {
      "needs_background": "light"
     },
     "output_type": "display_data"
    }
   ],
   "source": [
    "plt.plot(np.squeeze(modelo.predict_on_batch(datos['entradas'])), \n",
    "         np.squeeze(datos['targets']))\n",
    "plt.xlabel('predicciones')\n",
    "plt.ylabel('metas')\n",
    "plt.show()"
   ]
  },
  {
   "cell_type": "markdown",
   "metadata": {},
   "source": [
    "### Con Plotly Express"
   ]
  },
  {
   "cell_type": "code",
   "execution_count": 19,
   "metadata": {},
   "outputs": [
    {
     "data": {
      "application/vnd.plotly.v1+json": {
       "config": {
        "plotlyServerURL": "https://plot.ly"
       },
       "data": [
        {
         "hovertemplate": "x=%{x}<br>y=%{y}<extra></extra>",
         "legendgroup": "",
         "marker": {
          "color": "#636efa",
          "symbol": "circle"
         },
         "mode": "markers",
         "name": "",
         "orientation": "v",
         "showlegend": false,
         "type": "scatter",
         "x": [
          25.69662094116211,
          17.177173614501953,
          10.273618698120117,
          29.12383270263672,
          -14.8650541305542,
          5.809886932373047,
          -2.215106964111328,
          -30.750675201416016,
          14.424598693847656,
          38.55217742919922,
          -18.399372100830078,
          -17.860469818115234,
          -4.848685264587402,
          4.051229476928711,
          -27.897972106933594,
          -10.705099105834961,
          24.86334228515625,
          3.852936267852783,
          23.444927215576172,
          -31.26910400390625,
          3.3718862533569336,
          5.2805328369140625,
          -25.861873626708984,
          33.96549987792969,
          -15.815705299377441,
          4.982429504394531,
          48.232826232910156,
          20.621578216552734,
          -5.249760627746582,
          -26.301830291748047,
          24.99340057373047,
          15.451042175292969,
          31.733875274658203,
          23.919326782226562,
          -22.045310974121094,
          22.128498077392578,
          -7.0449371337890625,
          -6.215842247009277,
          -3.3399248123168945,
          4.845154285430908,
          -12.164612770080566,
          15.751205444335938,
          -5.524118423461914,
          -9.548821449279785,
          -25.8055419921875,
          2.344353199005127,
          -12.52584171295166,
          -21.89691925048828,
          42.959224700927734,
          0.7406816482543945,
          -21.78252410888672,
          16.276809692382812,
          36.701690673828125,
          3.782270669937134,
          -9.078475952148438,
          3.417740821838379,
          6.6175127029418945,
          -16.85511016845703,
          25.652423858642578,
          9.330863952636719,
          -24.517261505126953,
          10.702408790588379,
          37.4698486328125,
          20.1585693359375,
          17.9389705657959,
          20.451026916503906,
          34.49655532836914,
          7.476578712463379,
          -11.633700370788574,
          26.291461944580078,
          25.160247802734375,
          -8.155455589294434,
          3.5677480697631836,
          -24.68659210205078,
          -40.68304443359375,
          -11.957743644714355,
          -27.36273956298828,
          44.20671081542969,
          2.789499521255493,
          5.259984970092773,
          -32.97761535644531,
          20.416574478149414,
          8.1316556930542,
          -29.69055938720703,
          -33.82669448852539,
          14.832200050354004,
          24.28311538696289,
          15.115471839904785,
          35.71006774902344,
          11.320977210998535,
          -21.070178985595703,
          -5.752869606018066,
          8.6016206741333,
          4.402491569519043,
          8.380279541015625,
          36.970123291015625,
          10.783526420593262,
          13.934027671813965,
          -10.20346450805664,
          -12.161307334899902,
          33.18693923950195,
          0.6751108169555664,
          5.699219703674316,
          42.87542724609375,
          -25.593158721923828,
          -0.48684263229370117,
          16.08629608154297,
          -12.269789695739746,
          -18.846351623535156,
          -14.967436790466309,
          -20.950702667236328,
          -25.126789093017578,
          -39.10650634765625,
          27.449512481689453,
          35.553924560546875,
          -14.62778377532959,
          -28.983116149902344,
          50.76092529296875,
          24.15457534790039,
          9.060506820678711,
          -12.83556079864502,
          8.427316665649414,
          37.448177337646484,
          -1.967454433441162,
          -2.6478681564331055,
          5.4690351486206055,
          28.931324005126953,
          -16.23697280883789,
          -9.318572998046875,
          -37.27655792236328,
          -1.0969171524047852,
          -6.521615982055664,
          4.5769147872924805,
          27.42294692993164,
          13.339805603027344,
          16.10948944091797,
          -5.738738059997559,
          -37.649227142333984,
          -20.680870056152344,
          -22.032268524169922,
          6.264491081237793,
          -21.970375061035156,
          -1.5845441818237305,
          23.636306762695312,
          8.031854629516602,
          -26.01849365234375,
          -12.074660301208496,
          -21.760761260986328,
          -0.7355456352233887,
          8.718123435974121,
          -4.639187812805176,
          11.937873840332031,
          7.561029434204102,
          -27.356430053710938,
          -33.38985824584961,
          -18.284881591796875,
          -13.185891151428223,
          -13.3279447555542,
          -36.4375,
          -1.3672027587890625,
          34.475685119628906,
          19.410587310791016,
          35.80325698852539,
          -0.978510856628418,
          2.745058059692383,
          -30.915176391601562,
          -2.7657575607299805,
          24.116931915283203,
          13.29981803894043,
          36.80357360839844,
          15.276942253112793,
          -11.647168159484863,
          -7.271848678588867,
          29.914623260498047,
          2.670764923095703,
          5.3707380294799805,
          -0.8558721542358398,
          9.250786781311035,
          -35.25585174560547,
          0.8626871109008789,
          -36.521240234375,
          23.746963500976562,
          17.93922996520996,
          -10.769447326660156,
          -30.816116333007812,
          22.54665756225586,
          -11.573233604431152,
          -18.93523406982422,
          -1.4579849243164062,
          -21.870361328125,
          24.539962768554688,
          -8.57589054107666,
          -21.35009002685547,
          -27.080543518066406,
          -36.166709899902344,
          -11.927550315856934,
          38.1649169921875,
          -15.994040489196777,
          1.6816339492797852,
          5.258272171020508,
          29.799877166748047,
          20.796180725097656,
          29.86300277709961,
          -12.531233787536621,
          -19.258434295654297,
          -0.25496625900268555,
          22.68874740600586,
          -35.49839401245117,
          26.186294555664062,
          44.882080078125,
          -1.154618740081787,
          -12.984177589416504,
          -4.584264755249023,
          19.742677688598633,
          23.59438705444336,
          27.298015594482422,
          -21.939102172851562,
          8.386160850524902,
          27.37042236328125,
          -27.877124786376953,
          10.652484893798828,
          -5.501715660095215,
          29.26150894165039,
          21.54517364501953,
          51.86585998535156,
          33.08921813964844,
          -0.103302001953125,
          -0.4006481170654297,
          33.188411712646484,
          1.5111122131347656,
          -9.758429527282715,
          38.228145599365234,
          -17.21048355102539,
          -8.310892105102539,
          15.104660987854004,
          -16.92768096923828,
          10.463144302368164,
          16.93600082397461,
          2.2529807090759277,
          -18.982845306396484,
          7.6320390701293945,
          23.548778533935547,
          23.70147705078125,
          2.2979774475097656,
          -11.778960227966309,
          -8.638208389282227,
          26.76068878173828,
          33.53281784057617,
          -11.945509910583496,
          23.530643463134766,
          -12.499756813049316,
          21.02983283996582,
          41.46080017089844,
          5.99661922454834,
          10.273825645446777,
          -23.245891571044922,
          1.284043788909912,
          -13.087023735046387,
          35.62254333496094,
          25.43294906616211,
          16.471431732177734,
          -8.241195678710938,
          -36.63441467285156,
          -34.708045959472656,
          -31.584396362304688,
          26.599300384521484,
          -5.73452091217041,
          -5.92556095123291,
          -8.039691925048828,
          -17.721946716308594,
          2.9694738388061523,
          38.85869216918945,
          20.069293975830078,
          -24.063159942626953,
          -27.359024047851562,
          23.213768005371094,
          -18.255268096923828,
          33.5570182800293,
          22.553665161132812,
          34.35591125488281,
          -18.09290313720703,
          -6.9517107009887695,
          43.704750061035156,
          32.555599212646484,
          4.07124137878418,
          -5.954831123352051,
          -22.691104888916016,
          12.065942764282227,
          6.342120170593262,
          9.118901252746582,
          12.13284969329834,
          17.335926055908203,
          -21.274974822998047,
          34.927181243896484,
          -2.4394283294677734,
          -29.36893081665039,
          24.4344482421875,
          -16.25659942626953,
          -18.141162872314453,
          8.232803344726562,
          11.93399429321289,
          13.711149215698242,
          30.1729736328125,
          20.098264694213867,
          48.63621520996094,
          21.70077896118164,
          19.897253036499023,
          26.458175659179688,
          35.722557067871094,
          -11.505236625671387,
          -17.559097290039062,
          4.089039325714111,
          -11.63143253326416,
          9.950512886047363,
          -33.878196716308594,
          10.297896385192871,
          -12.36365032196045,
          -31.609066009521484,
          35.16162109375,
          -13.944376945495605,
          19.997573852539062,
          10.469488143920898,
          -36.778907775878906,
          -24.942028045654297,
          -5.998290061950684,
          2.674607753753662,
          3.225203514099121,
          -29.09869384765625,
          3.4096059799194336,
          -4.201173782348633,
          -32.31810760498047,
          17.424571990966797,
          45.47120666503906,
          -28.780548095703125,
          -12.927990913391113,
          -7.824684143066406,
          -5.284354209899902,
          15.524346351623535,
          0.9537582397460938,
          29.594173431396484,
          -3.424666404724121,
          18.87578582763672,
          29.470619201660156,
          -1.0373106002807617,
          -6.570525169372559,
          20.137588500976562,
          -20.072677612304688,
          10.519390106201172,
          -33.9029655456543,
          -5.540255546569824,
          1.279975414276123,
          18.53936004638672,
          -4.205235481262207,
          -2.36460018157959,
          -3.002823829650879,
          3.217514991760254,
          -25.20758819580078,
          -16.001155853271484,
          -14.359272956848145,
          21.758949279785156,
          4.4580979347229,
          -39.284908294677734,
          33.437355041503906,
          24.57754135131836,
          -10.601128578186035,
          8.447985649108887,
          -7.687970161437988,
          -3.971236228942871,
          13.702996253967285,
          -7.930523872375488,
          20.198041915893555,
          22.33636474609375,
          10.094481468200684,
          37.89826202392578,
          -5.418590545654297,
          -32.2441520690918,
          20.14694595336914,
          -5.855630874633789,
          -1.383559226989746,
          25.078411102294922,
          -15.795493125915527,
          25.64681625366211,
          2.1443519592285156,
          -6.7611188888549805,
          9.975948333740234,
          40.747108459472656,
          16.07724952697754,
          -1.954279899597168,
          -32.21043395996094,
          -31.55544662475586,
          24.882728576660156,
          0.3374185562133789,
          28.367515563964844,
          -1.4179458618164062,
          23.049819946289062,
          12.117720603942871,
          -4.8038434982299805,
          35.78374099731445,
          -11.976775169372559,
          26.812400817871094,
          -13.165495872497559,
          -3.114185333251953,
          -14.792414665222168,
          -1.4816226959228516,
          -37.340579986572266,
          4.154273509979248,
          -13.518010139465332,
          14.095588684082031,
          11.588294982910156,
          30.439346313476562,
          -2.402599334716797,
          3.1591405868530273,
          24.111419677734375,
          -12.695382118225098,
          16.56112289428711,
          1.7167418003082275,
          1.4159257411956787,
          0.10722637176513672,
          -35.18828582763672,
          -37.562713623046875,
          14.548787117004395,
          8.514021873474121,
          40.69575119018555,
          -5.765536308288574,
          4.414674758911133,
          13.060480117797852,
          20.603378295898438,
          -9.200641632080078,
          1.8304939270019531,
          -11.90925121307373,
          0.9613122940063477,
          34.392913818359375,
          12.65584945678711,
          41.58300018310547,
          20.431934356689453,
          -1.1678462028503418,
          14.074685096740723,
          -17.708080291748047,
          16.905099868774414,
          -5.001946449279785,
          13.071642875671387,
          -0.5146608352661133,
          20.317821502685547,
          54.622344970703125,
          -40.275577545166016,
          12.073148727416992,
          11.410892486572266,
          -12.315482139587402,
          -8.59831428527832,
          9.244660377502441,
          -6.179776191711426,
          48.121543884277344,
          16.317352294921875,
          25.704574584960938,
          -6.771136283874512,
          35.398685455322266,
          20.80002212524414,
          25.995407104492188,
          43.382286071777344,
          52.68152618408203,
          7.117053985595703,
          38.9748420715332,
          27.172489166259766,
          -16.544906616210938,
          -9.831643104553223,
          24.368080139160156,
          10.41751766204834,
          31.74748992919922,
          -34.98472595214844,
          14.478050231933594,
          7.807068824768066,
          -31.611042022705078,
          1.676511287689209,
          37.0228157043457,
          1.5103321075439453,
          -5.063408851623535,
          17.83562469482422,
          -22.09354019165039,
          -9.928760528564453,
          -9.943029403686523,
          -3.036489486694336,
          -14.779158592224121,
          -28.99762725830078,
          3.0453696250915527,
          -7.759932518005371,
          -3.091780662536621,
          28.871318817138672,
          3.2589378356933594,
          -21.054218292236328,
          21.896595001220703,
          17.173202514648438,
          -41.08464050292969,
          24.098922729492188,
          10.531530380249023,
          -23.83877182006836,
          -13.906817436218262,
          -8.302145004272461,
          -24.820980072021484,
          -10.392510414123535,
          -39.33285140991211,
          -31.50267791748047,
          12.101981163024902,
          -8.566720008850098,
          13.074570655822754,
          4.707852363586426,
          30.320812225341797,
          45.797950744628906,
          -34.68098449707031,
          12.094388961791992,
          11.259441375732422,
          -20.189697265625,
          43.282371520996094,
          4.48627233505249,
          -24.585296630859375,
          7.728759765625,
          7.047821044921875,
          6.673333168029785,
          -11.209061622619629,
          -29.2613525390625,
          -42.116973876953125,
          -15.01952838897705,
          -1.387643814086914,
          -10.917248725891113,
          -33.433502197265625,
          -17.006568908691406,
          0.9478855133056641,
          -2.6124162673950195,
          23.88565444946289,
          11.18108081817627,
          -3.8660383224487305,
          -42.72365951538086,
          6.429726600646973,
          22.743671417236328,
          16.51990509033203,
          -7.784387588500977,
          -1.4776802062988281,
          44.479713439941406,
          -8.256779670715332,
          29.12560272216797,
          8.661953926086426,
          -18.839435577392578,
          36.84669494628906,
          0.08057689666748047,
          -35.60844421386719,
          5.463709831237793,
          -9.79074764251709,
          7.540809631347656,
          15.084420204162598,
          -11.723868370056152,
          33.5676155090332,
          -20.76451873779297,
          -20.355125427246094,
          -22.305042266845703,
          1.8713335990905762,
          -4.076931953430176,
          21.250099182128906,
          -7.9289398193359375,
          10.357132911682129,
          46.40116500854492,
          -32.716514587402344,
          12.32037353515625,
          -0.9582300186157227,
          12.579505920410156,
          8.283066749572754,
          -16.869239807128906,
          1.9691505432128906,
          20.163558959960938,
          19.20504379272461,
          25.30404281616211,
          29.949851989746094,
          23.025405883789062,
          -16.43328857421875,
          -8.950895309448242,
          22.411483764648438,
          1.275886058807373,
          13.375426292419434,
          -22.628524780273438,
          15.046998023986816,
          -23.922561645507812,
          6.514100074768066,
          -11.581343650817871,
          10.051169395446777,
          -35.11687469482422,
          7.906368255615234,
          16.931686401367188,
          -6.852967262268066,
          -11.854945182800293,
          -3.605832099914551,
          5.249349594116211,
          4.9509735107421875,
          -17.399459838867188,
          9.300981521606445,
          26.59070587158203,
          -11.829113960266113,
          -32.24544906616211,
          39.92920684814453,
          6.559152603149414,
          38.845279693603516,
          -8.75213623046875,
          28.112041473388672,
          39.936702728271484,
          1.0960028171539307,
          -6.790034294128418,
          40.129188537597656,
          8.676131248474121,
          22.722068786621094,
          2.709345817565918,
          32.9881591796875,
          -10.37417984008789,
          39.42521667480469,
          15.754203796386719,
          10.411938667297363,
          -3.379307746887207,
          40.703857421875,
          17.730682373046875,
          4.913015365600586,
          4.19544792175293,
          35.805355072021484,
          1.4429097175598145,
          15.413722038269043,
          -34.83656692504883,
          7.915501594543457,
          22.758586883544922,
          29.12933349609375,
          -4.11135196685791,
          -11.10949993133545,
          23.836902618408203,
          -36.058189392089844,
          -28.31441879272461,
          8.951522827148438,
          -5.629171371459961,
          -19.5003662109375,
          -16.728111267089844,
          22.232379913330078,
          34.87966537475586,
          -15.58730411529541,
          14.217853546142578,
          -6.674010276794434,
          -18.759201049804688,
          0.26178455352783203,
          46.77252197265625,
          13.549781799316406,
          36.608612060546875,
          33.07063293457031,
          -21.97077178955078,
          -22.851943969726562,
          42.5463752746582,
          17.82122039794922,
          31.872474670410156,
          15.280179023742676,
          -1.8385772705078125,
          -4.618716239929199,
          -16.962848663330078,
          -3.758183479309082,
          14.39301586151123,
          -17.928722381591797,
          28.392295837402344,
          -20.57581329345703,
          23.51990509033203,
          6.7565460205078125,
          22.08218002319336,
          15.409958839416504,
          7.675545692443848,
          -21.26795196533203,
          31.88006591796875,
          -9.551499366760254,
          45.649688720703125,
          -2.060784339904785,
          -19.053253173828125,
          22.030384063720703,
          10.522821426391602,
          36.12205505371094,
          -20.550113677978516,
          -12.157736778259277,
          5.809549331665039,
          -17.055400848388672,
          4.377284049987793,
          20.315271377563477,
          -22.840286254882812,
          -27.646469116210938,
          0.15877151489257812,
          -9.242646217346191,
          2.498721122741699,
          2.142306089401245,
          -19.4991455078125,
          12.35968017578125,
          45.12160873413086,
          -42.345211029052734,
          -13.278660774230957,
          45.21220016479492,
          38.0859375,
          -2.8490428924560547,
          5.464022636413574,
          -6.336101531982422,
          -0.9059848785400391,
          -21.25942611694336,
          19.777584075927734,
          13.33956241607666,
          -7.042116165161133,
          17.325119018554688,
          38.371124267578125,
          -8.720966339111328,
          4.004661560058594,
          -30.099586486816406,
          13.461008071899414,
          -2.5465893745422363,
          -3.818770408630371,
          27.766983032226562,
          0.8184456825256348,
          -32.16031265258789,
          22.118785858154297,
          -23.38970947265625,
          3.500518798828125,
          28.81528091430664,
          -13.864890098571777,
          -31.63018798828125,
          -38.745567321777344,
          54.15583801269531,
          41.410667419433594,
          -2.9486446380615234,
          -19.738441467285156,
          16.482833862304688,
          7.015803337097168,
          14.636446952819824,
          21.554908752441406,
          9.13874340057373,
          -22.242511749267578,
          24.157020568847656,
          -33.967586517333984,
          25.553272247314453,
          -2.5040273666381836,
          -9.952086448669434,
          32.3582878112793,
          2.283514976501465,
          -14.090981483459473,
          -10.251444816589355,
          9.636551856994629,
          -10.236063957214355,
          12.066326141357422,
          -0.9773874282836914,
          -37.63157272338867,
          -15.577258110046387,
          6.862436294555664,
          43.213932037353516,
          -10.406693458557129,
          -42.686824798583984,
          10.26816177368164,
          -1.4078445434570312,
          -8.219257354736328,
          29.879562377929688,
          9.926490783691406,
          3.5143394470214844,
          -14.544831275939941,
          -0.39928627014160156,
          25.710994720458984,
          -3.0621109008789062,
          22.34182357788086,
          17.609519958496094,
          -5.3388776779174805,
          29.611724853515625,
          -5.865886688232422,
          10.618468284606934,
          -8.37151050567627,
          36.97287368774414,
          14.374834060668945,
          -16.19070816040039,
          14.395512580871582,
          29.857181549072266,
          11.327245712280273,
          -12.606148719787598,
          13.298401832580566,
          -1.0248632431030273,
          22.088088989257812,
          -6.186336517333984,
          -36.319610595703125,
          -1.7995786666870117,
          21.541255950927734,
          -11.812882423400879,
          -33.293582916259766,
          -30.529170989990234,
          -24.714534759521484,
          31.993709564208984,
          44.71188735961914,
          26.431198120117188,
          9.143062591552734,
          -18.001384735107422,
          -9.40201187133789,
          -21.369903564453125,
          10.325047492980957,
          25.986804962158203,
          27.06488800048828,
          0.1837749481201172,
          -9.308798789978027,
          10.174880027770996,
          -20.299148559570312,
          29.492198944091797,
          -0.1770000457763672,
          -25.62076187133789,
          1.7778587341308594,
          19.812480926513672,
          -30.9263916015625,
          17.652565002441406,
          25.03441619873047,
          26.63603973388672,
          -21.79965591430664,
          -16.209781646728516,
          7.302684783935547,
          22.220359802246094,
          -33.731651306152344,
          13.295601844787598,
          18.679494857788086,
          6.229910850524902,
          -24.62616729736328,
          -2.255234718322754,
          -7.226035118103027,
          -35.466392517089844,
          -12.828120231628418,
          -0.1526927947998047,
          11.485142707824707,
          12.292524337768555,
          35.30192947387695,
          31.108543395996094,
          35.4315185546875,
          16.011112213134766,
          45.739593505859375,
          7.293214797973633,
          3.524951934814453,
          -23.414310455322266,
          22.52960968017578,
          -35.289817810058594,
          -3.2484378814697266,
          -27.1005859375,
          10.174460411071777,
          -8.250688552856445,
          -8.821619033813477,
          13.02468204498291,
          -1.7239017486572266,
          -24.893413543701172,
          2.663278102874756,
          41.13587951660156,
          -10.506040573120117,
          -10.06103229522705,
          25.79684066772461,
          -10.478999137878418,
          3.735856056213379,
          43.61233901977539,
          -14.716448783874512,
          -13.858332633972168,
          13.963027000427246,
          9.870124816894531,
          20.69354248046875,
          5.032861709594727,
          3.9886717796325684,
          11.465311050415039,
          38.837013244628906,
          -42.125911712646484,
          27.7171630859375,
          1.0677986145019531,
          23.80545425415039,
          41.49493408203125,
          5.192111492156982,
          -4.542376518249512,
          18.860191345214844,
          -4.236692428588867,
          41.912353515625,
          24.065006256103516,
          -32.56945037841797,
          -9.70523452758789,
          38.07537841796875,
          2.875560760498047,
          13.806376457214355,
          24.678653717041016,
          19.921720504760742,
          4.356593132019043,
          31.350303649902344,
          10.187207221984863,
          44.7242546081543,
          -0.9122991561889648,
          -19.022567749023438,
          4.515539169311523,
          21.675003051757812,
          13.915946960449219,
          25.200103759765625,
          -1.9227700233459473,
          21.300006866455078,
          -6.754118919372559,
          7.5365729331970215,
          48.50697326660156,
          -28.48086929321289,
          38.334815979003906,
          26.170726776123047,
          39.53193664550781,
          35.3923454284668,
          -34.8631477355957,
          40.05027770996094,
          2.5025339126586914,
          15.025270462036133,
          -16.108139038085938,
          8.467164993286133,
          0.9585113525390625,
          -6.966373443603516,
          -13.16081714630127,
          -9.84833812713623,
          25.243759155273438,
          28.694351196289062,
          17.135986328125,
          -6.751533508300781,
          33.34054183959961,
          9.64677619934082,
          7.862521171569824,
          -0.1990795135498047,
          -7.910885810852051,
          27.061485290527344,
          20.192094802856445,
          24.402324676513672,
          17.80420684814453,
          3.3439908027648926,
          35.367218017578125,
          17.6502685546875,
          2.8887205123901367,
          37.7963752746582,
          -38.907352447509766,
          14.862227439880371,
          -13.342923164367676,
          15.974549293518066,
          10.552794456481934,
          -35.48401641845703,
          30.64148712158203,
          -4.0213823318481445,
          -14.467509269714355,
          10.848529815673828,
          -9.45151424407959,
          24.08798599243164,
          -6.673226356506348,
          10.635021209716797,
          35.30223846435547,
          27.53528594970703,
          28.219558715820312,
          -18.72610092163086,
          11.51384449005127,
          1.568058967590332,
          0.6944150924682617,
          -25.53704833984375,
          14.90963077545166,
          -26.309680938720703,
          -18.225189208984375,
          5.833352088928223,
          -11.9450044631958,
          3.30743408203125,
          12.509696006774902,
          2.5265583992004395,
          23.32912826538086,
          -16.021751403808594,
          5.7025346755981445,
          25.624481201171875,
          -12.318865776062012,
          -9.262842178344727,
          -0.14189910888671875,
          11.183551788330078,
          7.054937839508057,
          -2.994368553161621,
          -27.464111328125,
          5.687930583953857,
          4.899780750274658,
          35.862342834472656,
          -12.733447074890137,
          20.39708709716797,
          31.353160858154297,
          -4.3438310623168945,
          38.216094970703125,
          -5.765053749084473,
          -35.08783721923828,
          18.178569793701172,
          14.420905113220215,
          5.3510236740112305,
          19.549758911132812,
          18.567325592041016,
          -18.262405395507812,
          44.25388717651367,
          -3.609127998352051,
          24.339744567871094,
          -0.6781797409057617,
          10.406962394714355,
          41.789344787597656,
          24.507579803466797,
          -0.42437267303466797,
          -3.424459457397461,
          24.936038970947266,
          12.375591278076172,
          -10.422402381896973,
          -5.598808288574219,
          -2.075176239013672,
          25.337207794189453,
          -3.366474151611328,
          -36.542564392089844,
          4.366122245788574,
          16.99883270263672,
          14.07553768157959,
          24.899898529052734,
          15.107159614562988
         ],
         "xaxis": "x",
         "y": [
          26.462625508486312,
          17.927080214551474,
          10.178249642001092,
          28.062346352315043,
          -14.68333531528351,
          6.189727663870452,
          -1.3129871801769752,
          -30.67598885465718,
          14.468186785976538,
          38.61622665139511,
          -18.51030527224994,
          -18.45797838716706,
          -5.012032016694242,
          3.5712295488163748,
          -28.181064100086825,
          -11.035617429165548,
          25.075034427479647,
          4.5773370637135296,
          22.5180269156003,
          -31.00249801676961,
          2.3188650702782363,
          5.445681691617549,
          -24.694742525808593,
          33.78193428043989,
          -15.357318599249325,
          4.4854911998597755,
          47.95506639431717,
          20.657472931717066,
          -4.120295341079256,
          -25.696180491541785,
          24.089600595773412,
          16.21610406472219,
          31.109437919583314,
          23.507459144769392,
          -21.543251347259982,
          22.639179560730927,
          -7.533867313462767,
          -5.875593211806666,
          -2.504827036426338,
          5.30301810264702,
          -11.57396060369599,
          15.241881129864352,
          -5.809701850986303,
          -9.073769907595864,
          -24.661007973887237,
          2.7095311794762464,
          -12.267121120355691,
          -21.6012504820338,
          42.73076258625589,
          1.1545465217716637,
          -22.26297987602452,
          16.71395912661424,
          35.90785523178099,
          3.5300498920294494,
          -8.67807407563562,
          3.6453264827062233,
          7.263962980550543,
          -16.215250335242377,
          25.50276389630549,
          8.39613562516568,
          -24.211440533459843,
          10.420072760065935,
          37.27836571377401,
          18.921363281714772,
          18.05153386670123,
          19.916783335574337,
          34.5990582157909,
          7.806080283721043,
          -12.178302445119394,
          26.147548585332988,
          24.113109805309453,
          -8.434481246645888,
          3.9381653411230504,
          -24.087298050472565,
          -39.757844747089614,
          -12.361389309380623,
          -26.540442633666707,
          44.351269634986146,
          3.3252375208140226,
          6.225972306719659,
          -32.63354051918052,
          19.311557735422532,
          6.680499067729604,
          -30.59591550517521,
          -33.41941484015601,
          13.5269688289966,
          23.04844382607198,
          15.140322070934982,
          34.905522709480685,
          11.825591917904518,
          -20.366991281191066,
          -5.653000667627661,
          9.08766760820748,
          4.9054103346889,
          9.000033048332265,
          37.06937210074707,
          11.500789427447069,
          14.240764641744551,
          -10.073710951298716,
          -12.02692999744449,
          33.43159574913555,
          1.3261290426994743,
          5.88713344175399,
          41.76407422083102,
          -25.47174200858673,
          0.6213261515757247,
          16.299167123346944,
          -11.615894938835423,
          -18.00889112296308,
          -15.263711920468332,
          -19.86810434946862,
          -23.94449489580391,
          -38.79473402002421,
          27.599708976739446,
          36.32711501420644,
          -13.738800410210342,
          -28.451344354555264,
          49.74365077859081,
          23.81301252808151,
          9.098303366411285,
          -13.264580018345587,
          8.473442497045326,
          36.791863598943245,
          -1.2989396658451668,
          -2.7912796159960083,
          5.277896715268633,
          27.984673532413996,
          -15.578978276002792,
          -8.779504924506346,
          -36.737995868250366,
          -2.224976769782869,
          -6.759041340319656,
          3.5380491097890197,
          26.85670373279974,
          13.256374204701574,
          15.42937790586771,
          -4.487974142943901,
          -36.91300657923287,
          -21.209632297969037,
          -21.511537103435355,
          6.815440411963224,
          -22.53972951382297,
          -1.1163737822908046,
          23.974809533625304,
          8.23156397286463,
          -26.244583660749573,
          -12.01295761940503,
          -21.32006638036921,
          -0.9694791620144443,
          8.57410995858386,
          -5.002738194696872,
          12.681596441124725,
          8.49963059699396,
          -26.623361933317955,
          -33.13863587959884,
          -18.172553549490505,
          -13.527409829778469,
          -12.879153322493465,
          -36.57289333536178,
          -1.5897171587258505,
          33.59813220230049,
          19.512742544807764,
          36.613457542965115,
          -0.7522064013794216,
          2.2583792928416138,
          -30.52431336665669,
          -2.723256150818002,
          24.09248900184675,
          13.750435365394498,
          36.3289512628144,
          14.306769624602406,
          -10.66532641125242,
          -6.858480125697214,
          29.67933674350275,
          3.4467267629540963,
          4.888865731561217,
          -1.378276023591043,
          10.115654142156117,
          -35.70638099768094,
          0.2221018520765332,
          -35.534171166643176,
          22.410571998931033,
          18.232070823832615,
          -10.397375873539623,
          -31.158348051129508,
          21.825806368095375,
          -12.592441149543562,
          -18.794808596820545,
          -1.2796599156767954,
          -22.41576735362331,
          25.264246050697363,
          -8.773167243914056,
          -20.53706420291342,
          -27.280845169524632,
          -35.419811217256346,
          -11.739275908742322,
          38.81631733930782,
          -16.698944356013207,
          1.3895515476995788,
          5.998342866692787,
          29.095056750867364,
          19.337731022001968,
          29.985782261750938,
          -12.24331236765736,
          -20.006789834453166,
          -0.38403631390326365,
          23.195300322238797,
          -36.072682240270076,
          26.398571176162918,
          45.11538439557225,
          -1.7065977955106628,
          -13.772794490323518,
          -4.683064881212788,
          19.520380343926302,
          23.591304956981375,
          27.27477388939367,
          -22.168002037377637,
          7.835826967238492,
          26.441038474214448,
          -28.61503218473012,
          10.954305805180029,
          -6.515365474210331,
          29.735915954427774,
          21.14219992858484,
          50.53754555264455,
          33.43948331036475,
          0.2513971923150353,
          -0.22619397625107096,
          33.0690579691473,
          1.9651519488047615,
          -8.525263577922999,
          38.87010423902528,
          -16.195610322070817,
          -7.165522591157023,
          15.177175836536035,
          -16.59713305686382,
          11.140434843992333,
          16.021412713350443,
          1.2900568974443927,
          -19.614471676806453,
          7.064443347268782,
          23.361095981500448,
          23.790348426053363,
          1.5367338410223341,
          -12.408203695754978,
          -8.605453562904898,
          27.159579172372272,
          32.906526726745746,
          -12.629814640896276,
          24.038877756004258,
          -11.968804914016113,
          21.624787991917984,
          41.61200705188912,
          5.608715002582977,
          10.511635539639794,
          -22.469696105641574,
          1.5407845380169627,
          -13.70264810499997,
          35.717547768622765,
          24.90503996355219,
          17.4084415816345,
          -7.426664706073649,
          -36.89266179212588,
          -35.15190631846359,
          -31.69540024725013,
          26.04396544259134,
          -6.296585601148427,
          -5.312896672127276,
          -7.890291109865892,
          -18.188649497056943,
          3.7865908335455796,
          39.397825727338805,
          19.651834423208314,
          -24.09076847394523,
          -26.49597458536844,
          22.12038752581538,
          -17.636692867426053,
          32.16074072849475,
          22.655595571856654,
          34.80052833351983,
          -17.905879686660946,
          -6.611224615325581,
          42.75454458223711,
          32.82855946626236,
          4.5790464707009395,
          -4.686463289615788,
          -22.835883167980437,
          12.047771365127447,
          5.415274037030754,
          9.615773472710401,
          12.325870472397492,
          17.644756203033143,
          -19.951681985005628,
          34.38188327795104,
          -2.9361808182032387,
          -29.293209614438304,
          23.69892448249565,
          -16.278479205815373,
          -16.748801792550157,
          7.515141549202405,
          11.598397201276896,
          14.174898782248734,
          29.642831990353493,
          19.918189781080837,
          48.9406036406796,
          22.49649517505784,
          19.264103504529366,
          25.45390703115637,
          36.37422282886538,
          -11.753680066639703,
          -17.501904125624897,
          4.1582196245786935,
          -11.581857243596874,
          10.112016184461863,
          -33.925383402668864,
          9.997699813719606,
          -12.324179543516154,
          -30.969837840984727,
          35.31261673320103,
          -15.128969645217856,
          19.360626369617375,
          10.056712750552357,
          -36.52374125722823,
          -23.92526566898252,
          -7.236006052117652,
          2.7573527172267887,
          2.475976874953729,
          -28.00224323866214,
          2.7468956467805503,
          -4.717373394383024,
          -32.87466759245747,
          17.065668355421472,
          44.11822510896789,
          -28.50674481130509,
          -12.734045781440262,
          -7.572129568593704,
          -4.505986871843302,
          15.344205999760197,
          0.9838331765918036,
          30.183305308336184,
          -4.509062785736086,
          17.4930655972269,
          29.149903704644938,
          -1.3171876342422093,
          -5.817066920447772,
          19.36795381522192,
          -19.610215040320718,
          10.102722809577099,
          -34.00812194855342,
          -6.3067980382014355,
          1.929591645209164,
          18.85226767117082,
          -3.9254716043350646,
          -1.4314658852574664,
          -2.1104500082732827,
          3.2814463489667123,
          -25.201686600001203,
          -16.124394003298157,
          -15.323419841416651,
          21.019727704556686,
          3.300886587476998,
          -39.816007361828916,
          32.15059513879024,
          24.793676388212774,
          -9.863851799449845,
          8.808796190570153,
          -7.48708823482681,
          -2.868642202309502,
          14.130280506682983,
          -6.531284845424492,
          19.20303740560663,
          22.45666373413542,
          10.610880605328871,
          37.6157825435228,
          -5.716356880561739,
          -31.698297113115224,
          19.35298024315651,
          -5.665534341775546,
          -0.5920731223643918,
          25.46082674446095,
          -16.976069746244328,
          24.831815886204758,
          2.1839231894151276,
          -5.28446647197134,
          10.183117006260165,
          39.6432767488214,
          15.49277160593464,
          -2.5396525510557346,
          -32.806828654666504,
          -32.221998983468474,
          23.975303293720067,
          1.6253390528885514,
          28.81380290361199,
          -1.347957705300369,
          21.776723216305317,
          11.980632853676568,
          -5.350251274558688,
          35.60408472630143,
          -11.213125433712325,
          27.41996713316102,
          -13.311420171256668,
          -3.325084706110026,
          -14.656633338480335,
          -1.0964120730860398,
          -37.22160290677277,
          3.7360660238913908,
          -12.262469023083264,
          15.391799909481987,
          12.025908464549296,
          30.56336512696139,
          -2.791992302513881,
          3.0883590061465496,
          24.742975262465492,
          -12.997148812076345,
          15.409510357926628,
          1.3414443399310054,
          0.6322713387431667,
          0.6379941864897041,
          -34.07868681185839,
          -37.8471406714825,
          14.84152193209954,
          8.405575641434776,
          41.44033510779401,
          -5.596347053780306,
          4.809545906795291,
          12.697804584974286,
          20.874360847271717,
          -9.9636382664068,
          1.4030428597526936,
          -11.908264505942462,
          1.0541315891380678,
          33.005429218987295,
          12.575837774429646,
          41.61300846915598,
          18.940213427390113,
          -1.7916884393636767,
          14.582356300553073,
          -17.730381114365862,
          17.335017789658874,
          -5.799329683920558,
          13.63712428485481,
          -0.7089549203015106,
          19.58274819271002,
          55.10087586232137,
          -39.86148316854805,
          12.741649787250138,
          10.488202529769287,
          -12.913349433149472,
          -8.69077539787016,
          9.38739401774291,
          -5.94432717165793,
          46.862948317594615,
          16.651705316037493,
          25.144285422368373,
          -6.434672525031362,
          34.74717513683656,
          19.77209805461816,
          25.37162882153028,
          43.060642759814016,
          53.11898155246224,
          6.597291163185124,
          38.26515738989961,
          27.012258989392887,
          -15.679166217060798,
          -10.851157709467326,
          23.377575132256084,
          9.679782432264478,
          30.55635674842973,
          -35.12726419439668,
          14.530541502926448,
          9.150603237971277,
          -31.89947994540565,
          2.3553502823802113,
          36.7429829357101,
          0.9330698995420097,
          -3.462635096729019,
          18.700206221689733,
          -20.78673741390093,
          -10.143116700041645,
          -10.251830775307381,
          -3.3563185189510367,
          -15.528192694027686,
          -28.274715445472427,
          2.482797851173834,
          -8.530297943444674,
          -2.982910090068674,
          27.38385723243494,
          3.4894413926157712,
          -21.812553997901322,
          22.142240511715794,
          17.104151097157565,
          -40.548292358223684,
          23.626753087260195,
          11.342903408829631,
          -23.515366145728105,
          -14.19719530545016,
          -7.72861613177402,
          -24.65201715586556,
          -10.329118065325801,
          -39.86240331232624,
          -31.792974466719986,
          11.083998642649927,
          -9.483881187255884,
          13.72690026708966,
          4.595952738969009,
          31.092737218597726,
          44.90343715299607,
          -34.37640272993124,
          11.72505631387704,
          12.101342207399696,
          -20.271875078754107,
          42.84984718300856,
          4.317967584037871,
          -24.938711359050586,
          6.824070187153288,
          6.80551545464832,
          7.741484957624584,
          -10.313690184220013,
          -28.90295157201861,
          -41.913094170505225,
          -14.31023671927513,
          -2.2406759663760925,
          -9.46708797344699,
          -33.108744233979245,
          -16.726425242659275,
          0.9133270338025006,
          -2.3516049867440354,
          24.427413445459273,
          10.140257024268044,
          -5.153614579965627,
          -42.60503589572456,
          6.412195427538538,
          21.87189862932552,
          16.739743289346677,
          -7.197122771324632,
          -2.4201774568326195,
          43.62757159467238,
          -7.49279228576405,
          29.841956443899658,
          9.315262177281294,
          -17.797229834898395,
          36.72125890202059,
          0.3425884380237132,
          -34.99316846691951,
          4.169791495563785,
          -10.130250736100995,
          8.199352379797297,
          15.79763246525244,
          -11.078468847561583,
          32.36428865718966,
          -19.729019866596378,
          -20.761931167557748,
          -21.840058008534253,
          1.4408576385122818,
          -4.4055222219640005,
          20.25311351935765,
          -8.241686979739955,
          10.233617194861925,
          45.66113646458659,
          -32.55444280669423,
          12.191618517258238,
          -1.5466569022551868,
          13.173475462939184,
          8.65665457586901,
          -17.107651693212045,
          2.4110203045029692,
          19.397423238314296,
          19.255881507672484,
          25.055137477793686,
          28.687352151078684,
          23.082052746682642,
          -16.360022458437246,
          -9.38537753332317,
          21.866427123159188,
          1.8994517836580433,
          14.636754680935336,
          -21.77546178701412,
          15.778973232302521,
          -23.518559505970188,
          7.295863317516973,
          -11.49995017987166,
          9.983620606116807,
          -34.42503487789524,
          7.99993484499245,
          16.46562741342372,
          -6.078591578062335,
          -11.543719428816559,
          -3.6236900052757095,
          6.451863111726137,
          4.7841625777290195,
          -17.696385800255605,
          8.49581929702046,
          26.902381567279015,
          -11.976954247273,
          -32.01441544468916,
          39.5343464838848,
          6.195976929007941,
          39.504575533663406,
          -7.69788833613808,
          28.13990482355872,
          38.90578529875714,
          2.0295051892173426,
          -7.311112724098143,
          40.45185425016101,
          7.567098691901299,
          22.693422834753303,
          2.7918705069384124,
          32.66893596017824,
          -11.384110380332382,
          38.83903333306571,
          15.62321755402677,
          8.892993193471192,
          -2.6211984346063604,
          40.40470674723712,
          16.580301697272024,
          5.057035360392879,
          4.315204493913898,
          34.49725802884262,
          1.8743874041491495,
          14.765655912194427,
          -34.80334833269215,
          6.800973569403314,
          23.135154728064617,
          27.94873725225807,
          -4.352560293155623,
          -11.889752930451769,
          22.84183267188645,
          -36.300788524010386,
          -27.716307828123853,
          7.790242383884329,
          -5.822255153371991,
          -20.003381662659976,
          -16.043781407327707,
          21.373290129788188,
          34.769155833577884,
          -15.256867190632398,
          14.232873574548801,
          -6.083325506977129,
          -18.900633738964782,
          0.8810924811527419,
          47.291275090601644,
          14.007023842431005,
          37.02640375949869,
          33.19925829384114,
          -21.178470480897584,
          -22.408066862436094,
          41.31881101045475,
          16.750225005770094,
          32.46377780895868,
          15.364372002263943,
          -1.6354138499805397,
          -4.865883591343986,
          -16.818551809633785,
          -3.779940500322043,
          14.780682842640642,
          -18.3841848370065,
          28.691143622908147,
          -19.283894407815964,
          24.222150609941014,
          5.993205513618583,
          21.21977970879792,
          14.438626723844674,
          6.727604718972515,
          -20.617822724383508,
          31.716580869262145,
          -9.71525129971021,
          46.14471529446545,
          -2.870673131584561,
          -18.559363031752774,
          20.611400400717798,
          10.777183208216487,
          36.42761843199262,
          -20.494567102333225,
          -11.389892260893786,
          6.264241947067674,
          -16.044319368360025,
          4.662821163854441,
          20.442546432353666,
          -22.895606249643357,
          -28.02186151974136,
          0.8442976779811315,
          -8.374733917186346,
          1.7182513252437916,
          2.9567419381036553,
          -18.184434931983297,
          12.235384866825461,
          44.9253563384193,
          -41.47440547913074,
          -12.623268835445524,
          44.243314476085565,
          36.964025468194876,
          -1.998141214222873,
          5.022486695313367,
          -5.725100027716897,
          -0.25927165289682463,
          -22.141378366946334,
          19.32325354688644,
          13.945554877875045,
          -6.708681229573411,
          17.505510214252453,
          38.97499673887747,
          -8.712447612882368,
          2.9034359945421393,
          -30.168538012483303,
          13.23325890799273,
          -3.4405968344187885,
          -4.143923347697007,
          27.86607555800182,
          0.9502521899336835,
          -31.810073991457827,
          22.120799541056005,
          -22.40710720838491,
          4.52465647849791,
          29.64769830563505,
          -12.666801225854876,
          -31.972305361316494,
          -38.48668078274335,
          52.95943656495672,
          41.23157912665681,
          -2.5714329917522316,
          -19.189721054712894,
          15.862037807261753,
          7.592196358262044,
          14.278373792773577,
          21.796104791996438,
          9.741638800151422,
          -21.385066057101877,
          23.352002720318968,
          -32.934353021481016,
          26.09625743785705,
          -2.5686565440790448,
          -8.535813755837736,
          32.28172087886084,
          3.4959751104231716,
          -13.108498949771981,
          -8.810896358554396,
          9.646741455635306,
          -9.545242862133692,
          11.878515252895257,
          -1.4005920572115729,
          -37.61571794892455,
          -15.736423513261764,
          5.561991658557432,
          42.229812815208035,
          -9.015928193951352,
          -42.12906944316223,
          11.22382589202083,
          -1.590042916307497,
          -7.39866253878821,
          30.132216582189304,
          9.047223199203163,
          4.755659799462809,
          -13.26423519481291,
          -0.39374206140924106,
          24.539152872191035,
          -3.5236907722106445,
          22.729810227048617,
          16.848970602558765,
          -6.0202827763948985,
          29.95928905720783,
          -5.367298206514451,
          10.5745435020472,
          -7.797589506319266,
          35.64352091689633,
          13.476134860824803,
          -15.994167391719897,
          14.071096601467815,
          29.431374724913766,
          11.870424940238722,
          -11.717243122565002,
          14.047814262565616,
          -0.7324978148309103,
          20.852789823767015,
          -5.892678696782211,
          -36.737257527835645,
          -2.027733792443626,
          20.383242755982327,
          -11.478182494334572,
          -33.06935260858024,
          -30.018681120186184,
          -23.65506439155664,
          32.17310962778194,
          44.11990018864364,
          26.06171569770231,
          9.306830265677716,
          -17.303822993963966,
          -9.82520542366643,
          -20.396898543597256,
          10.512886448562098,
          24.707208100126586,
          27.643337992938367,
          0.15382795749127576,
          -8.916827334885218,
          9.417475952089784,
          -20.762153831893354,
          30.03225994372321,
          0.25744076023035833,
          -24.914294718665122,
          0.7811439198889925,
          18.963223193883874,
          -30.708318706437943,
          17.967515275155257,
          25.345121928302838,
          26.128870828669843,
          -21.336674916689933,
          -15.794377786587127,
          7.418280690491574,
          22.578472350803292,
          -34.014981041061105,
          12.207686711954317,
          17.911901899904706,
          6.266412817829618,
          -25.171443750452173,
          -1.3809465898194766,
          -5.929904309388792,
          -34.47822293825633,
          -12.233613686403231,
          0.6592641304151796,
          12.247628294261656,
          11.32332108171114,
          34.36525683692369,
          30.72851220447553,
          35.325881609787835,
          15.856972516386273,
          46.08203055071782,
          7.813852450302693,
          4.365723557756522,
          -22.75679085304212,
          23.436729337792396,
          -34.72515329660107,
          -3.8977425115213347,
          -27.991862303175537,
          8.79401045860359,
          -8.354297672446043,
          -8.132208298477916,
          12.042671021627593,
          -1.867608079249494,
          -25.05516099937836,
          2.9177449155561828,
          40.693112289906466,
          -9.572735623513717,
          -8.876132936736472,
          25.51341872494106,
          -10.490657380815998,
          3.967155292711055,
          42.50504667240456,
          -14.243474615868232,
          -13.189582059914517,
          13.42011641326046,
          9.576643107095158,
          19.78162398950849,
          5.252042870257804,
          4.660603171687654,
          11.843146956604226,
          38.74780695558091,
          -42.35053773534682,
          28.057304708306287,
          1.8647455896701943,
          24.193531879534333,
          41.39724355035508,
          4.364837775976941,
          -4.571225769631922,
          17.261754085339362,
          -4.670131494674883,
          42.312972381767125,
          23.9890791232149,
          -33.209180621720556,
          -8.775433805351106,
          37.113849578881805,
          3.8882259478152603,
          13.895613455262884,
          24.58344950304893,
          20.970824351141268,
          3.8508931465132616,
          31.52314708239928,
          9.216435898514598,
          44.60763912683257,
          -0.41395887425949396,
          -18.512813446118198,
          3.806384191657185,
          20.477092600373034,
          13.108002244182906,
          24.17961702495688,
          -1.7150925177401157,
          21.262593217709068,
          -7.475210582848643,
          7.848780027231057,
          47.619824023736975,
          -27.92195634225154,
          38.78476442106533,
          25.672594932743273,
          39.17467268720342,
          35.077072941059875,
          -35.16647279918175,
          38.62204953679543,
          1.1567016716375709,
          15.588579411114404,
          -15.381997945473191,
          7.823674929271583,
          1.4209741954896882,
          -7.436145969752287,
          -12.242022098426292,
          -9.53701729999308,
          25.701241995642775,
          28.860354417833484,
          16.422813036076928,
          -6.320344424837056,
          33.01464822657489,
          10.6735113923418,
          7.566713226372021,
          -0.685887675769635,
          -7.5463821741657116,
          26.675532323230325,
          18.97570590495504,
          24.91352454973509,
          18.339639862251364,
          3.9060734547035123,
          35.87106233021787,
          17.016058346953574,
          3.440735078663242,
          37.22147299743142,
          -38.26691066679152,
          15.255433060391926,
          -11.923893135060698,
          16.517005919145003,
          10.813979842156185,
          -35.76161359320157,
          29.508678161279548,
          -2.933081767557209,
          -14.875083993403223,
          10.614336432654614,
          -9.260545264624305,
          24.2524110977999,
          -6.863156767691778,
          10.803135986681102,
          35.939695825869734,
          28.15977303168267,
          28.983491688930094,
          -18.02850973324799,
          10.789661682988655,
          2.423296170264843,
          0.008035155714993358,
          -24.690471769325224,
          13.910773632198248,
          -26.009603672186504,
          -19.03753024801393,
          7.141572450454495,
          -12.661033368990125,
          3.566092063958652,
          12.211695723146901,
          3.1551843696058546,
          22.269876750190285,
          -15.66779364656403,
          4.26229796682436,
          26.062689549714324,
          -12.512250208927892,
          -9.06902158717737,
          -0.6523322598701098,
          10.607902030668528,
          6.339557846190535,
          -2.221569587036706,
          -26.788585075658673,
          5.662245518211492,
          4.132578653761058,
          35.304155851685536,
          -11.638884422336885,
          20.063486061078308,
          31.025896397123095,
          -3.839430191819858,
          38.03725660194959,
          -6.0105921787952905,
          -35.548840232824816,
          16.777916394896295,
          13.351375783300506,
          5.080736361130163,
          19.608816744315497,
          19.03209501481409,
          -17.290847651992152,
          43.482942295316505,
          -3.023396617427394,
          23.494457646125305,
          0.313796498179864,
          9.538556878430615,
          41.6528329520015,
          24.77946975476134,
          0.5787686998289776,
          -4.057785985594373,
          25.589934213659134,
          12.434601772064983,
          -9.793133591941398,
          -4.521350908504818,
          -2.720821976356387,
          25.512491963584978,
          -3.551406526197523,
          -36.957107614418156,
          4.302674711499202,
          16.69443886308829,
          13.833075330161432,
          23.909571026314648,
          14.495826006585823
         ],
         "yaxis": "y"
        }
       ],
       "layout": {
        "height": 400,
        "legend": {
         "tracegroupgap": 0
        },
        "margin": {
         "t": 60
        },
        "template": {
         "data": {
          "bar": [
           {
            "error_x": {
             "color": "#2a3f5f"
            },
            "error_y": {
             "color": "#2a3f5f"
            },
            "marker": {
             "line": {
              "color": "#E5ECF6",
              "width": 0.5
             },
             "pattern": {
              "fillmode": "overlay",
              "size": 10,
              "solidity": 0.2
             }
            },
            "type": "bar"
           }
          ],
          "barpolar": [
           {
            "marker": {
             "line": {
              "color": "#E5ECF6",
              "width": 0.5
             },
             "pattern": {
              "fillmode": "overlay",
              "size": 10,
              "solidity": 0.2
             }
            },
            "type": "barpolar"
           }
          ],
          "carpet": [
           {
            "aaxis": {
             "endlinecolor": "#2a3f5f",
             "gridcolor": "white",
             "linecolor": "white",
             "minorgridcolor": "white",
             "startlinecolor": "#2a3f5f"
            },
            "baxis": {
             "endlinecolor": "#2a3f5f",
             "gridcolor": "white",
             "linecolor": "white",
             "minorgridcolor": "white",
             "startlinecolor": "#2a3f5f"
            },
            "type": "carpet"
           }
          ],
          "choropleth": [
           {
            "colorbar": {
             "outlinewidth": 0,
             "ticks": ""
            },
            "type": "choropleth"
           }
          ],
          "contour": [
           {
            "colorbar": {
             "outlinewidth": 0,
             "ticks": ""
            },
            "colorscale": [
             [
              0,
              "#0d0887"
             ],
             [
              0.1111111111111111,
              "#46039f"
             ],
             [
              0.2222222222222222,
              "#7201a8"
             ],
             [
              0.3333333333333333,
              "#9c179e"
             ],
             [
              0.4444444444444444,
              "#bd3786"
             ],
             [
              0.5555555555555556,
              "#d8576b"
             ],
             [
              0.6666666666666666,
              "#ed7953"
             ],
             [
              0.7777777777777778,
              "#fb9f3a"
             ],
             [
              0.8888888888888888,
              "#fdca26"
             ],
             [
              1,
              "#f0f921"
             ]
            ],
            "type": "contour"
           }
          ],
          "contourcarpet": [
           {
            "colorbar": {
             "outlinewidth": 0,
             "ticks": ""
            },
            "type": "contourcarpet"
           }
          ],
          "heatmap": [
           {
            "colorbar": {
             "outlinewidth": 0,
             "ticks": ""
            },
            "colorscale": [
             [
              0,
              "#0d0887"
             ],
             [
              0.1111111111111111,
              "#46039f"
             ],
             [
              0.2222222222222222,
              "#7201a8"
             ],
             [
              0.3333333333333333,
              "#9c179e"
             ],
             [
              0.4444444444444444,
              "#bd3786"
             ],
             [
              0.5555555555555556,
              "#d8576b"
             ],
             [
              0.6666666666666666,
              "#ed7953"
             ],
             [
              0.7777777777777778,
              "#fb9f3a"
             ],
             [
              0.8888888888888888,
              "#fdca26"
             ],
             [
              1,
              "#f0f921"
             ]
            ],
            "type": "heatmap"
           }
          ],
          "heatmapgl": [
           {
            "colorbar": {
             "outlinewidth": 0,
             "ticks": ""
            },
            "colorscale": [
             [
              0,
              "#0d0887"
             ],
             [
              0.1111111111111111,
              "#46039f"
             ],
             [
              0.2222222222222222,
              "#7201a8"
             ],
             [
              0.3333333333333333,
              "#9c179e"
             ],
             [
              0.4444444444444444,
              "#bd3786"
             ],
             [
              0.5555555555555556,
              "#d8576b"
             ],
             [
              0.6666666666666666,
              "#ed7953"
             ],
             [
              0.7777777777777778,
              "#fb9f3a"
             ],
             [
              0.8888888888888888,
              "#fdca26"
             ],
             [
              1,
              "#f0f921"
             ]
            ],
            "type": "heatmapgl"
           }
          ],
          "histogram": [
           {
            "marker": {
             "pattern": {
              "fillmode": "overlay",
              "size": 10,
              "solidity": 0.2
             }
            },
            "type": "histogram"
           }
          ],
          "histogram2d": [
           {
            "colorbar": {
             "outlinewidth": 0,
             "ticks": ""
            },
            "colorscale": [
             [
              0,
              "#0d0887"
             ],
             [
              0.1111111111111111,
              "#46039f"
             ],
             [
              0.2222222222222222,
              "#7201a8"
             ],
             [
              0.3333333333333333,
              "#9c179e"
             ],
             [
              0.4444444444444444,
              "#bd3786"
             ],
             [
              0.5555555555555556,
              "#d8576b"
             ],
             [
              0.6666666666666666,
              "#ed7953"
             ],
             [
              0.7777777777777778,
              "#fb9f3a"
             ],
             [
              0.8888888888888888,
              "#fdca26"
             ],
             [
              1,
              "#f0f921"
             ]
            ],
            "type": "histogram2d"
           }
          ],
          "histogram2dcontour": [
           {
            "colorbar": {
             "outlinewidth": 0,
             "ticks": ""
            },
            "colorscale": [
             [
              0,
              "#0d0887"
             ],
             [
              0.1111111111111111,
              "#46039f"
             ],
             [
              0.2222222222222222,
              "#7201a8"
             ],
             [
              0.3333333333333333,
              "#9c179e"
             ],
             [
              0.4444444444444444,
              "#bd3786"
             ],
             [
              0.5555555555555556,
              "#d8576b"
             ],
             [
              0.6666666666666666,
              "#ed7953"
             ],
             [
              0.7777777777777778,
              "#fb9f3a"
             ],
             [
              0.8888888888888888,
              "#fdca26"
             ],
             [
              1,
              "#f0f921"
             ]
            ],
            "type": "histogram2dcontour"
           }
          ],
          "mesh3d": [
           {
            "colorbar": {
             "outlinewidth": 0,
             "ticks": ""
            },
            "type": "mesh3d"
           }
          ],
          "parcoords": [
           {
            "line": {
             "colorbar": {
              "outlinewidth": 0,
              "ticks": ""
             }
            },
            "type": "parcoords"
           }
          ],
          "pie": [
           {
            "automargin": true,
            "type": "pie"
           }
          ],
          "scatter": [
           {
            "fillpattern": {
             "fillmode": "overlay",
             "size": 10,
             "solidity": 0.2
            },
            "type": "scatter"
           }
          ],
          "scatter3d": [
           {
            "line": {
             "colorbar": {
              "outlinewidth": 0,
              "ticks": ""
             }
            },
            "marker": {
             "colorbar": {
              "outlinewidth": 0,
              "ticks": ""
             }
            },
            "type": "scatter3d"
           }
          ],
          "scattercarpet": [
           {
            "marker": {
             "colorbar": {
              "outlinewidth": 0,
              "ticks": ""
             }
            },
            "type": "scattercarpet"
           }
          ],
          "scattergeo": [
           {
            "marker": {
             "colorbar": {
              "outlinewidth": 0,
              "ticks": ""
             }
            },
            "type": "scattergeo"
           }
          ],
          "scattergl": [
           {
            "marker": {
             "colorbar": {
              "outlinewidth": 0,
              "ticks": ""
             }
            },
            "type": "scattergl"
           }
          ],
          "scattermapbox": [
           {
            "marker": {
             "colorbar": {
              "outlinewidth": 0,
              "ticks": ""
             }
            },
            "type": "scattermapbox"
           }
          ],
          "scatterpolar": [
           {
            "marker": {
             "colorbar": {
              "outlinewidth": 0,
              "ticks": ""
             }
            },
            "type": "scatterpolar"
           }
          ],
          "scatterpolargl": [
           {
            "marker": {
             "colorbar": {
              "outlinewidth": 0,
              "ticks": ""
             }
            },
            "type": "scatterpolargl"
           }
          ],
          "scatterternary": [
           {
            "marker": {
             "colorbar": {
              "outlinewidth": 0,
              "ticks": ""
             }
            },
            "type": "scatterternary"
           }
          ],
          "surface": [
           {
            "colorbar": {
             "outlinewidth": 0,
             "ticks": ""
            },
            "colorscale": [
             [
              0,
              "#0d0887"
             ],
             [
              0.1111111111111111,
              "#46039f"
             ],
             [
              0.2222222222222222,
              "#7201a8"
             ],
             [
              0.3333333333333333,
              "#9c179e"
             ],
             [
              0.4444444444444444,
              "#bd3786"
             ],
             [
              0.5555555555555556,
              "#d8576b"
             ],
             [
              0.6666666666666666,
              "#ed7953"
             ],
             [
              0.7777777777777778,
              "#fb9f3a"
             ],
             [
              0.8888888888888888,
              "#fdca26"
             ],
             [
              1,
              "#f0f921"
             ]
            ],
            "type": "surface"
           }
          ],
          "table": [
           {
            "cells": {
             "fill": {
              "color": "#EBF0F8"
             },
             "line": {
              "color": "white"
             }
            },
            "header": {
             "fill": {
              "color": "#C8D4E3"
             },
             "line": {
              "color": "white"
             }
            },
            "type": "table"
           }
          ]
         },
         "layout": {
          "annotationdefaults": {
           "arrowcolor": "#2a3f5f",
           "arrowhead": 0,
           "arrowwidth": 1
          },
          "autotypenumbers": "strict",
          "coloraxis": {
           "colorbar": {
            "outlinewidth": 0,
            "ticks": ""
           }
          },
          "colorscale": {
           "diverging": [
            [
             0,
             "#8e0152"
            ],
            [
             0.1,
             "#c51b7d"
            ],
            [
             0.2,
             "#de77ae"
            ],
            [
             0.3,
             "#f1b6da"
            ],
            [
             0.4,
             "#fde0ef"
            ],
            [
             0.5,
             "#f7f7f7"
            ],
            [
             0.6,
             "#e6f5d0"
            ],
            [
             0.7,
             "#b8e186"
            ],
            [
             0.8,
             "#7fbc41"
            ],
            [
             0.9,
             "#4d9221"
            ],
            [
             1,
             "#276419"
            ]
           ],
           "sequential": [
            [
             0,
             "#0d0887"
            ],
            [
             0.1111111111111111,
             "#46039f"
            ],
            [
             0.2222222222222222,
             "#7201a8"
            ],
            [
             0.3333333333333333,
             "#9c179e"
            ],
            [
             0.4444444444444444,
             "#bd3786"
            ],
            [
             0.5555555555555556,
             "#d8576b"
            ],
            [
             0.6666666666666666,
             "#ed7953"
            ],
            [
             0.7777777777777778,
             "#fb9f3a"
            ],
            [
             0.8888888888888888,
             "#fdca26"
            ],
            [
             1,
             "#f0f921"
            ]
           ],
           "sequentialminus": [
            [
             0,
             "#0d0887"
            ],
            [
             0.1111111111111111,
             "#46039f"
            ],
            [
             0.2222222222222222,
             "#7201a8"
            ],
            [
             0.3333333333333333,
             "#9c179e"
            ],
            [
             0.4444444444444444,
             "#bd3786"
            ],
            [
             0.5555555555555556,
             "#d8576b"
            ],
            [
             0.6666666666666666,
             "#ed7953"
            ],
            [
             0.7777777777777778,
             "#fb9f3a"
            ],
            [
             0.8888888888888888,
             "#fdca26"
            ],
            [
             1,
             "#f0f921"
            ]
           ]
          },
          "colorway": [
           "#636efa",
           "#EF553B",
           "#00cc96",
           "#ab63fa",
           "#FFA15A",
           "#19d3f3",
           "#FF6692",
           "#B6E880",
           "#FF97FF",
           "#FECB52"
          ],
          "font": {
           "color": "#2a3f5f"
          },
          "geo": {
           "bgcolor": "white",
           "lakecolor": "white",
           "landcolor": "#E5ECF6",
           "showlakes": true,
           "showland": true,
           "subunitcolor": "white"
          },
          "hoverlabel": {
           "align": "left"
          },
          "hovermode": "closest",
          "mapbox": {
           "style": "light"
          },
          "paper_bgcolor": "white",
          "plot_bgcolor": "#E5ECF6",
          "polar": {
           "angularaxis": {
            "gridcolor": "white",
            "linecolor": "white",
            "ticks": ""
           },
           "bgcolor": "#E5ECF6",
           "radialaxis": {
            "gridcolor": "white",
            "linecolor": "white",
            "ticks": ""
           }
          },
          "scene": {
           "xaxis": {
            "backgroundcolor": "#E5ECF6",
            "gridcolor": "white",
            "gridwidth": 2,
            "linecolor": "white",
            "showbackground": true,
            "ticks": "",
            "zerolinecolor": "white"
           },
           "yaxis": {
            "backgroundcolor": "#E5ECF6",
            "gridcolor": "white",
            "gridwidth": 2,
            "linecolor": "white",
            "showbackground": true,
            "ticks": "",
            "zerolinecolor": "white"
           },
           "zaxis": {
            "backgroundcolor": "#E5ECF6",
            "gridcolor": "white",
            "gridwidth": 2,
            "linecolor": "white",
            "showbackground": true,
            "ticks": "",
            "zerolinecolor": "white"
           }
          },
          "shapedefaults": {
           "line": {
            "color": "#2a3f5f"
           }
          },
          "ternary": {
           "aaxis": {
            "gridcolor": "white",
            "linecolor": "white",
            "ticks": ""
           },
           "baxis": {
            "gridcolor": "white",
            "linecolor": "white",
            "ticks": ""
           },
           "bgcolor": "#E5ECF6",
           "caxis": {
            "gridcolor": "white",
            "linecolor": "white",
            "ticks": ""
           }
          },
          "title": {
           "x": 0.05
          },
          "xaxis": {
           "automargin": true,
           "gridcolor": "white",
           "linecolor": "white",
           "ticks": "",
           "title": {
            "standoff": 15
           },
           "zerolinecolor": "white",
           "zerolinewidth": 2
          },
          "yaxis": {
           "automargin": true,
           "gridcolor": "white",
           "linecolor": "white",
           "ticks": "",
           "title": {
            "standoff": 15
           },
           "zerolinecolor": "white",
           "zerolinewidth": 2
          }
         }
        },
        "title": {
         "text": "Comparación predicciones vrs metas"
        },
        "width": 600,
        "xaxis": {
         "anchor": "y",
         "domain": [
          0,
          1
         ],
         "title": {
          "text": "Predicciones"
         }
        },
        "yaxis": {
         "anchor": "x",
         "domain": [
          0,
          1
         ],
         "title": {
          "text": "Metas"
         }
        }
       }
      }
     },
     "metadata": {},
     "output_type": "display_data"
    }
   ],
   "source": [
    "fig = px.scatter(x = np.squeeze(modelo.predict_on_batch(datos['entradas'])), \n",
    "                 y =  np.squeeze(datos['targets']))\n",
    "\n",
    "fig.update_layout(\n",
    "    title=\"Comparación predicciones vrs metas\",\n",
    "    xaxis_title=\"Predicciones\",\n",
    "    yaxis_title=\"Metas\",\n",
    "    width = 600,\n",
    "    height = 400,)\n",
    "\n",
    "fig.show()"
   ]
  },
  {
   "cell_type": "markdown",
   "metadata": {},
   "source": [
    "Listo, lo que se vé debe ser exactamente igual a lo que se vió en el ejercicio pasado!\n",
    "\n",
    "A estas alturas quizás no se le ve la gracia al TensorFlow.  En términos de líneas código es igual al del ejercicio con NumPy para llegar al mismo resultado.  Sin embargo, a medida que se profundice en el tema, se podrá ver que TensorFlow ahorra cientos de líneas de código."
   ]
  }
 ],
 "metadata": {
  "kernelspec": {
   "display_name": "Python 3 (ipykernel)",
   "language": "python",
   "name": "python3"
  },
  "language_info": {
   "codemirror_mode": {
    "name": "ipython",
    "version": 3
   },
   "file_extension": ".py",
   "mimetype": "text/x-python",
   "name": "python",
   "nbconvert_exporter": "python",
   "pygments_lexer": "ipython3",
   "version": "3.10.1"
  }
 },
 "nbformat": 4,
 "nbformat_minor": 4
}
