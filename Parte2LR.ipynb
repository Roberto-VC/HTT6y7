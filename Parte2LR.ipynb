{
 "cells": [
  {
   "cell_type": "markdown",
   "metadata": {},
   "source": [
    "# Ejemplo básico con TensorFlow 2.0\n",
    "\n",
    "En este ejercicio vamos a recrear nuestro algoritmo de aprendizaje utilizando TF 2."
   ]
  },
  {
   "cell_type": "markdown",
   "metadata": {},
   "source": [
    "## Importar las librerías relevantes"
   ]
  },
  {
   "cell_type": "code",
   "execution_count": 1,
   "metadata": {},
   "outputs": [],
   "source": [
    "import numpy as np\n",
    "import plotly.express as px\n",
    "import matplotlib.pyplot as plt\n",
    "import tensorflow as tf"
   ]
  },
  {
   "cell_type": "markdown",
   "metadata": {},
   "source": [
    "## Generación de datos\n",
    "\n",
    "Se generan los datos de la misma manera que lo hicimos en el ejercicio anterior.  La única diferencia es que ahora se guardan los datos en un archivo *.npz*.  NPZ es un tipo de archivo propio de NumPy que permite guardar arreglos NumPy.  Se introduce este cambio porque en el ML a menudo:\n",
    "\n",
    "* se reciben datos (csv, base de datos, etc.)\n",
    "* se preprocesan los datos y se dejan en un formato deseado (se verá este tema después)\n",
    "* se guardan los datos en archivos npz (si es que se está trabajando con Python) para uso posterior\n",
    "\n",
    "No hay nada especial de todo esto.  Solo se guardan arreglos NumPy en un archivo re-utlizable.\n",
    "\n",
    "Se trabajará con dos variables de entrada, x1 y x2.  Estas se generan al azar a partir de una distribución uniforme.\n",
    "\n",
    "Se creará una matriz con estas dos variables.  La matriz X del modelo lineal y = x * w + b"
   ]
  },
  {
   "cell_type": "code",
   "execution_count": 2,
   "metadata": {},
   "outputs": [],
   "source": [
    "# Por facilidad, declaramos una variable que indique el tamaño del conjunto \n",
    "#      de datos de entrenamiento.\n",
    "observaciones = 1000\n",
    "\n",
    "x1 = np.random.uniform(low = -10, high = 10, size = (observaciones,1))\n",
    "x2 = np.random.uniform(-10, 10, (observaciones,1)) # nótese que no se requieren las palabras clave\n",
    "\n",
    "X = np.column_stack((x1,x2))\n",
    "\n"
   ]
  },
  {
   "cell_type": "code",
   "execution_count": null,
   "metadata": {},
   "outputs": [],
   "source": []
  },
  {
   "cell_type": "markdown",
   "metadata": {},
   "source": [
    "### Generar las metas a las que debemos apuntar\n",
    "\n",
    "La función a usar: \n",
    "\n",
    "f(x1, x2) = 2 * x1 - 3 * x2 + 5 + <ruido pequeño>\n",
    "\n",
    "El ruido es para hacerlo más realista.\n",
    "\n",
    "En esencia, se puede ver que los pesos serán 2 y -3, y es sesgo es 5\n",
    "\n",
    "Utilizando la metodología de ML, se vé si el algoritmo ha aprendido la función. "
   ]
  },
  {
   "cell_type": "code",
   "execution_count": 3,
   "metadata": {},
   "outputs": [],
   "source": [
    "ruido = np.random.uniform(-1, 1, (observaciones,1))\n",
    "\n",
    "y = 2 * x1 - 3 * x2 + 5 + ruido"
   ]
  },
  {
   "cell_type": "markdown",
   "metadata": {},
   "source": [
    "Hasta ahora todo ha sido igual.  El siguiente paso sí es nuevo y es que se guarda la información en un archivo *.npz* que se ha denominado \"Datos_TF)"
   ]
  },
  {
   "cell_type": "code",
   "execution_count": 4,
   "metadata": {},
   "outputs": [],
   "source": [
    "np.savez('Datos_TF', entradas = X, targets = y)  # nótese que se puede usar cualquier nombre"
   ]
  },
  {
   "cell_type": "markdown",
   "metadata": {},
   "source": [
    "## Resolver con TensorFlow\n",
    "\n",
    "<i/>Nota: Esta introducción de TensorFloe es muy básica.  El TF tiene muchas más capacidaded y profundidad que esto.<i>"
   ]
  },
  {
   "cell_type": "code",
   "execution_count": 5,
   "metadata": {},
   "outputs": [],
   "source": [
    "# Se cargan los datos desde el archivo NPZ.  Por supuesto, esto no era necesario acá\n",
    "datos = np.load('Datos_TF.npz')"
   ]
  },
  {
   "cell_type": "markdown",
   "metadata": {},
   "source": [
    "En el ejercicio anterior se tuvieron que dar valores iniciales, acá solo se dan:\n",
    "\n",
    "1.  El número de variables de entrada\n",
    "2.  El número de salidas que tenemos"
   ]
  },
  {
   "cell_type": "code",
   "execution_count": 6,
   "metadata": {},
   "outputs": [],
   "source": [
    "tamanio_entrada = 2\n",
    "\n",
    "tamanio_salida = 1"
   ]
  },
  {
   "cell_type": "markdown",
   "metadata": {},
   "source": [
    "### Describir el modelo\n",
    "\n",
    "En otras aplicaciones simplemente se usa un modelo que ya se haya hecho.  Con TensorFlow hay que armarlo\n",
    "\n",
    "Como el ejemplo es muy simple...es lineal...se utiliza el método **\"Sequential\"**\n",
    "\n",
    "Nótese que no se pide cálculo alguno - solo se describe la red\n",
    "\n",
    "Acá se debe listar cada capa \"layer\" de la red neuronal\n",
    "\n",
    "El método **\"Dense\"** realiza una operación matemática **.dot(u, v) + z**.  Esto es exactamente lo que que se necesita: (xw + b)\n",
    "\n",
    "El único parámetro necesario es el tamaño de la salida **tamanio_salida** en el código\n",
    "\n",
    "Hay otros parámetros que se pueden incluir para particularizar el modelo, en este caso, se está tratando de crear una solución que sea tan parecida a la del modelo NumPy anterior por lo que se agregan:\n",
    "\n",
    "* kernel_initializer   -   kernel es un término más generalizado para los pesos\n",
    "* bias_initializer     -   sesgo"
   ]
  },
  {
   "cell_type": "code",
   "execution_count": 7,
   "metadata": {},
   "outputs": [],
   "source": [
    "modelo = tf.keras.Sequential([                    \n",
    "  tf.keras.layers.Dense(\n",
    "    tamanio_salida,\n",
    "    kernel_initializer = tf.random_uniform_initializer(minval = -0.1, maxval = 0.1),\n",
    "    bias_initializer = tf.random_uniform_initializer(minval = -0.1, maxval = 0.1)\n",
    "  )\n",
    "])"
   ]
  },
  {
   "cell_type": "markdown",
   "metadata": {},
   "source": [
    "También se puede definir un optimizador a la medida, en el que se puede especificar la tasa de aprendizaje. De los que hay disponibles, el SGD (Stochastic Gradient Descent) es una generalización de la que se platicó en clase, sin darle nombre."
   ]
  },
  {
   "cell_type": "code",
   "execution_count": 8,
   "metadata": {},
   "outputs": [],
   "source": [
    "optimizador_adhoc = tf.keras.optimizers.SGD(learning_rate = 0.1)"
   ]
  },
  {
   "cell_type": "markdown",
   "metadata": {},
   "source": [
    "Para la función de pérdida, se utilizará la de **L2-norm**.  Esta también se conoce como **Least sum of squares (Least sum of squares error)**.  El escalamiento se logra obteniendo la media para el # de observaciones.  Esto es justamente lo que hace el **mean squared error**\n",
    "\n",
    "En algún momento, podría ser necesario una función de pérdida hecha a la medida.  Eso es mucho más difícil implementar y no se trabajará en este curso."
   ]
  },
  {
   "cell_type": "markdown",
   "metadata": {},
   "source": [
    "**\"compile\"** es donde se pueden indicar los optimizadores y la pérdida."
   ]
  },
  {
   "cell_type": "code",
   "execution_count": 9,
   "metadata": {},
   "outputs": [],
   "source": [
    "modelo.compile(optimizer = optimizador_adhoc, loss='mean_squared_error')"
   ]
  },
  {
   "cell_type": "markdown",
   "metadata": {},
   "source": [
    "Finalmente, se ajusta el modelo con los datos (o se modelan los datos), indicando las *entradas* y los *targets*...así se denominaron al guardar el archivo.  \n",
    "\n",
    "En vez de usar el término *iteraciones*, se utiliza el término *épocas*.  Si no se especifica el número de épocas este será 1 (una sola época de entrenamiento), así que este número es algo obligatorio.\n",
    "\n",
    "El parámetro **\"verbose\"** se refiere a cuánta información queremos que despliegue durante la ejecución.  Se vale probar diferentes números...se prueban los valores 0, 1 y 2"
   ]
  },
  {
   "cell_type": "code",
   "execution_count": 10,
   "metadata": {},
   "outputs": [
    {
     "name": "stdout",
     "output_type": "stream",
     "text": [
      "Epoch 1/100\n",
      "32/32 - 2s - loss: inf - 2s/epoch - 55ms/step\n",
      "Epoch 2/100\n",
      "32/32 - 0s - loss: nan - 28ms/epoch - 875us/step\n",
      "Epoch 3/100\n",
      "32/32 - 0s - loss: nan - 29ms/epoch - 906us/step\n",
      "Epoch 4/100\n",
      "32/32 - 0s - loss: nan - 30ms/epoch - 938us/step\n",
      "Epoch 5/100\n",
      "32/32 - 0s - loss: nan - 29ms/epoch - 906us/step\n",
      "Epoch 6/100\n",
      "32/32 - 0s - loss: nan - 28ms/epoch - 875us/step\n",
      "Epoch 7/100\n",
      "32/32 - 0s - loss: nan - 34ms/epoch - 1ms/step\n",
      "Epoch 8/100\n",
      "32/32 - 0s - loss: nan - 30ms/epoch - 937us/step\n",
      "Epoch 9/100\n",
      "32/32 - 0s - loss: nan - 30ms/epoch - 937us/step\n",
      "Epoch 10/100\n",
      "32/32 - 0s - loss: nan - 31ms/epoch - 969us/step\n",
      "Epoch 11/100\n",
      "32/32 - 0s - loss: nan - 33ms/epoch - 1ms/step\n",
      "Epoch 12/100\n",
      "32/32 - 0s - loss: nan - 32ms/epoch - 1ms/step\n",
      "Epoch 13/100\n",
      "32/32 - 0s - loss: nan - 28ms/epoch - 875us/step\n",
      "Epoch 14/100\n",
      "32/32 - 0s - loss: nan - 32ms/epoch - 1000us/step\n",
      "Epoch 15/100\n",
      "32/32 - 0s - loss: nan - 31ms/epoch - 969us/step\n",
      "Epoch 16/100\n",
      "32/32 - 0s - loss: nan - 33ms/epoch - 1ms/step\n",
      "Epoch 17/100\n",
      "32/32 - 0s - loss: nan - 29ms/epoch - 906us/step\n",
      "Epoch 18/100\n",
      "32/32 - 0s - loss: nan - 34ms/epoch - 1ms/step\n",
      "Epoch 19/100\n",
      "32/32 - 0s - loss: nan - 36ms/epoch - 1ms/step\n",
      "Epoch 20/100\n",
      "32/32 - 0s - loss: nan - 33ms/epoch - 1ms/step\n",
      "Epoch 21/100\n",
      "32/32 - 0s - loss: nan - 35ms/epoch - 1ms/step\n",
      "Epoch 22/100\n",
      "32/32 - 0s - loss: nan - 31ms/epoch - 969us/step\n",
      "Epoch 23/100\n",
      "32/32 - 0s - loss: nan - 31ms/epoch - 969us/step\n",
      "Epoch 24/100\n",
      "32/32 - 0s - loss: nan - 32ms/epoch - 1ms/step\n",
      "Epoch 25/100\n",
      "32/32 - 0s - loss: nan - 30ms/epoch - 937us/step\n",
      "Epoch 26/100\n",
      "32/32 - 0s - loss: nan - 30ms/epoch - 938us/step\n",
      "Epoch 27/100\n",
      "32/32 - 0s - loss: nan - 30ms/epoch - 938us/step\n",
      "Epoch 28/100\n",
      "32/32 - 0s - loss: nan - 31ms/epoch - 969us/step\n",
      "Epoch 29/100\n",
      "32/32 - 0s - loss: nan - 30ms/epoch - 938us/step\n",
      "Epoch 30/100\n",
      "32/32 - 0s - loss: nan - 31ms/epoch - 969us/step\n",
      "Epoch 31/100\n",
      "32/32 - 0s - loss: nan - 31ms/epoch - 969us/step\n",
      "Epoch 32/100\n",
      "32/32 - 0s - loss: nan - 31ms/epoch - 969us/step\n",
      "Epoch 33/100\n",
      "32/32 - 0s - loss: nan - 32ms/epoch - 1ms/step\n",
      "Epoch 34/100\n",
      "32/32 - 0s - loss: nan - 31ms/epoch - 969us/step\n",
      "Epoch 35/100\n",
      "32/32 - 0s - loss: nan - 31ms/epoch - 969us/step\n",
      "Epoch 36/100\n",
      "32/32 - 0s - loss: nan - 28ms/epoch - 875us/step\n",
      "Epoch 37/100\n",
      "32/32 - 0s - loss: nan - 30ms/epoch - 937us/step\n",
      "Epoch 38/100\n",
      "32/32 - 0s - loss: nan - 29ms/epoch - 906us/step\n",
      "Epoch 39/100\n",
      "32/32 - 0s - loss: nan - 29ms/epoch - 906us/step\n",
      "Epoch 40/100\n",
      "32/32 - 0s - loss: nan - 29ms/epoch - 906us/step\n",
      "Epoch 41/100\n",
      "32/32 - 0s - loss: nan - 30ms/epoch - 938us/step\n",
      "Epoch 42/100\n",
      "32/32 - 0s - loss: nan - 33ms/epoch - 1ms/step\n",
      "Epoch 43/100\n",
      "32/32 - 0s - loss: nan - 35ms/epoch - 1ms/step\n",
      "Epoch 44/100\n",
      "32/32 - 0s - loss: nan - 34ms/epoch - 1ms/step\n",
      "Epoch 45/100\n",
      "32/32 - 0s - loss: nan - 29ms/epoch - 906us/step\n",
      "Epoch 46/100\n",
      "32/32 - 0s - loss: nan - 30ms/epoch - 937us/step\n",
      "Epoch 47/100\n",
      "32/32 - 0s - loss: nan - 31ms/epoch - 969us/step\n",
      "Epoch 48/100\n",
      "32/32 - 0s - loss: nan - 32ms/epoch - 1000us/step\n",
      "Epoch 49/100\n",
      "32/32 - 0s - loss: nan - 32ms/epoch - 1000us/step\n",
      "Epoch 50/100\n",
      "32/32 - 0s - loss: nan - 32ms/epoch - 1ms/step\n",
      "Epoch 51/100\n",
      "32/32 - 0s - loss: nan - 37ms/epoch - 1ms/step\n",
      "Epoch 52/100\n",
      "32/32 - 0s - loss: nan - 32ms/epoch - 1ms/step\n",
      "Epoch 53/100\n",
      "32/32 - 0s - loss: nan - 27ms/epoch - 844us/step\n",
      "Epoch 54/100\n",
      "32/32 - 0s - loss: nan - 32ms/epoch - 1000us/step\n",
      "Epoch 55/100\n",
      "32/32 - 0s - loss: nan - 31ms/epoch - 969us/step\n",
      "Epoch 56/100\n",
      "32/32 - 0s - loss: nan - 38ms/epoch - 1ms/step\n",
      "Epoch 57/100\n",
      "32/32 - 0s - loss: nan - 33ms/epoch - 1ms/step\n",
      "Epoch 58/100\n",
      "32/32 - 0s - loss: nan - 33ms/epoch - 1ms/step\n",
      "Epoch 59/100\n",
      "32/32 - 0s - loss: nan - 33ms/epoch - 1ms/step\n",
      "Epoch 60/100\n",
      "32/32 - 0s - loss: nan - 35ms/epoch - 1ms/step\n",
      "Epoch 61/100\n",
      "32/32 - 0s - loss: nan - 38ms/epoch - 1ms/step\n",
      "Epoch 62/100\n",
      "32/32 - 0s - loss: nan - 33ms/epoch - 1ms/step\n",
      "Epoch 63/100\n",
      "32/32 - 0s - loss: nan - 37ms/epoch - 1ms/step\n",
      "Epoch 64/100\n",
      "32/32 - 0s - loss: nan - 33ms/epoch - 1ms/step\n",
      "Epoch 65/100\n",
      "32/32 - 0s - loss: nan - 36ms/epoch - 1ms/step\n",
      "Epoch 66/100\n",
      "32/32 - 0s - loss: nan - 31ms/epoch - 969us/step\n",
      "Epoch 67/100\n",
      "32/32 - 0s - loss: nan - 33ms/epoch - 1ms/step\n",
      "Epoch 68/100\n",
      "32/32 - 0s - loss: nan - 37ms/epoch - 1ms/step\n",
      "Epoch 69/100\n",
      "32/32 - 0s - loss: nan - 32ms/epoch - 1000us/step\n",
      "Epoch 70/100\n",
      "32/32 - 0s - loss: nan - 30ms/epoch - 938us/step\n",
      "Epoch 71/100\n",
      "32/32 - 0s - loss: nan - 33ms/epoch - 1ms/step\n",
      "Epoch 72/100\n",
      "32/32 - 0s - loss: nan - 64ms/epoch - 2ms/step\n",
      "Epoch 73/100\n",
      "32/32 - 0s - loss: nan - 36ms/epoch - 1ms/step\n",
      "Epoch 74/100\n",
      "32/32 - 0s - loss: nan - 33ms/epoch - 1ms/step\n",
      "Epoch 75/100\n",
      "32/32 - 0s - loss: nan - 30ms/epoch - 938us/step\n",
      "Epoch 76/100\n",
      "32/32 - 0s - loss: nan - 31ms/epoch - 969us/step\n",
      "Epoch 77/100\n",
      "32/32 - 0s - loss: nan - 29ms/epoch - 907us/step\n",
      "Epoch 78/100\n",
      "32/32 - 0s - loss: nan - 34ms/epoch - 1ms/step\n",
      "Epoch 79/100\n",
      "32/32 - 0s - loss: nan - 34ms/epoch - 1ms/step\n",
      "Epoch 80/100\n",
      "32/32 - 0s - loss: nan - 32ms/epoch - 1ms/step\n",
      "Epoch 81/100\n",
      "32/32 - 0s - loss: nan - 35ms/epoch - 1ms/step\n",
      "Epoch 82/100\n",
      "32/32 - 0s - loss: nan - 38ms/epoch - 1ms/step\n",
      "Epoch 83/100\n",
      "32/32 - 0s - loss: nan - 35ms/epoch - 1ms/step\n",
      "Epoch 84/100\n",
      "32/32 - 0s - loss: nan - 36ms/epoch - 1ms/step\n",
      "Epoch 85/100\n",
      "32/32 - 0s - loss: nan - 33ms/epoch - 1ms/step\n",
      "Epoch 86/100\n",
      "32/32 - 0s - loss: nan - 32ms/epoch - 1000us/step\n",
      "Epoch 87/100\n",
      "32/32 - 0s - loss: nan - 35ms/epoch - 1ms/step\n",
      "Epoch 88/100\n",
      "32/32 - 0s - loss: nan - 35ms/epoch - 1ms/step\n",
      "Epoch 89/100\n",
      "32/32 - 0s - loss: nan - 34ms/epoch - 1ms/step\n",
      "Epoch 90/100\n",
      "32/32 - 0s - loss: nan - 38ms/epoch - 1ms/step\n",
      "Epoch 91/100\n",
      "32/32 - 0s - loss: nan - 35ms/epoch - 1ms/step\n",
      "Epoch 92/100\n",
      "32/32 - 0s - loss: nan - 36ms/epoch - 1ms/step\n",
      "Epoch 93/100\n",
      "32/32 - 0s - loss: nan - 34ms/epoch - 1ms/step\n",
      "Epoch 94/100\n",
      "32/32 - 0s - loss: nan - 35ms/epoch - 1ms/step\n",
      "Epoch 95/100\n",
      "32/32 - 0s - loss: nan - 33ms/epoch - 1ms/step\n",
      "Epoch 96/100\n",
      "32/32 - 0s - loss: nan - 35ms/epoch - 1ms/step\n",
      "Epoch 97/100\n",
      "32/32 - 0s - loss: nan - 32ms/epoch - 1ms/step\n",
      "Epoch 98/100\n",
      "32/32 - 0s - loss: nan - 32ms/epoch - 1ms/step\n",
      "Epoch 99/100\n",
      "32/32 - 0s - loss: nan - 33ms/epoch - 1ms/step\n",
      "Epoch 100/100\n",
      "32/32 - 0s - loss: nan - 38ms/epoch - 1ms/step\n"
     ]
    },
    {
     "data": {
      "text/plain": [
       "<keras.callbacks.History at 0x1a4e988a710>"
      ]
     },
     "execution_count": 10,
     "metadata": {},
     "output_type": "execute_result"
    }
   ],
   "source": [
    "modelo.fit(datos['entradas'], datos['targets'], epochs = 100, verbose = 2)"
   ]
  },
  {
   "cell_type": "markdown",
   "metadata": {
    "tags": []
   },
   "source": [
    "## Extracción de los pesos y sesgos\n",
    "\n",
    "La extracción de el(los) peso(s) y sesgo(s) de un modelo no es un paso esencial para el proceso de ML.  De hecho, en un contexto de aprendizaje profundo, no da mucha información útil.  Sin embargo, este ejemplo simple se armó de tal forma que permite verificar si las respuestas que da el modelo son correctas."
   ]
  },
  {
   "cell_type": "code",
   "execution_count": 11,
   "metadata": {},
   "outputs": [
    {
     "data": {
      "text/plain": [
       "[array([[nan],\n",
       "        [nan]], dtype=float32),\n",
       " array([nan], dtype=float32)]"
      ]
     },
     "execution_count": 11,
     "metadata": {},
     "output_type": "execute_result"
    }
   ],
   "source": [
    "modelo.layers[0].get_weights()    # el cero (0) es porque solo tenemos una capa"
   ]
  },
  {
   "cell_type": "markdown",
   "metadata": {},
   "source": [
    "Se pueden almacenar los pesos y los sesgos en variables diferentes para facilitar la revisión.\n",
    "\n",
    "OJO!   Pueden haber cientos o miles de estos!!!!"
   ]
  },
  {
   "cell_type": "code",
   "execution_count": 12,
   "metadata": {},
   "outputs": [
    {
     "data": {
      "text/plain": [
       "array([[nan],\n",
       "       [nan]], dtype=float32)"
      ]
     },
     "execution_count": 12,
     "metadata": {},
     "output_type": "execute_result"
    }
   ],
   "source": [
    "pesos = modelo.layers[0].get_weights()[0]\n",
    "pesos"
   ]
  },
  {
   "cell_type": "code",
   "execution_count": 13,
   "metadata": {},
   "outputs": [
    {
     "data": {
      "text/plain": [
       "array([nan], dtype=float32)"
      ]
     },
     "execution_count": 13,
     "metadata": {},
     "output_type": "execute_result"
    }
   ],
   "source": [
    "\n",
    "sesgos = modelo.layers[0].get_weights()[1]\n",
    "sesgos"
   ]
  },
  {
   "cell_type": "markdown",
   "metadata": {},
   "source": [
    "## Hacer predicciones\n",
    "\n",
    "Una vez más, este no es un paso esencial, sin embargo, generalmente sí se desean hacer predicciones.\n",
    "\n",
    "Se puede pedirle al modelo que prediga nuevos valores.  A veces es útil redondear los valores para que la salida sea más legible.  \n",
    "\n",
    "Generalmente se utiliza este método con DATOS NUEVOS, en vez de usar los datos de entrenamiento originales."
   ]
  },
  {
   "cell_type": "code",
   "execution_count": 14,
   "metadata": {},
   "outputs": [
    {
     "data": {
      "text/plain": [
       "array([[nan],\n",
       "       [nan],\n",
       "       [nan],\n",
       "       [nan],\n",
       "       [nan]], dtype=float32)"
      ]
     },
     "execution_count": 14,
     "metadata": {},
     "output_type": "execute_result"
    }
   ],
   "source": [
    "modelo.predict_on_batch(datos['entradas']).round(1)[:5, :]"
   ]
  },
  {
   "cell_type": "markdown",
   "metadata": {},
   "source": [
    "Si se despliegan la metas (valores reales), se pueden comparar visualmente con las predicciones."
   ]
  },
  {
   "cell_type": "code",
   "execution_count": 15,
   "metadata": {},
   "outputs": [
    {
     "data": {
      "text/plain": [
       "array([[ 10.9],\n",
       "       [-30.9],\n",
       "       [ 11.8],\n",
       "       [ 19.5],\n",
       "       [ -3.7]])"
      ]
     },
     "execution_count": 15,
     "metadata": {},
     "output_type": "execute_result"
    }
   ],
   "source": [
    "datos['targets'].round(1)[:5, :]"
   ]
  },
  {
   "cell_type": "markdown",
   "metadata": {},
   "source": [
    "## Graficar los datos\n",
    "\n",
    "El modelo está ya optimizado, por lo que las salidas se han calculado sobre la última forma, o el último estado, del modelo.\n",
    "\n",
    "Es necesario comprimir o empacar **\"squeeze\"** los arreglos para dejarlos en un formato que es el esperado por la función graficadora.  No cambia nada ya que se dejaron dimensiones de tamaño 1 - solo es un tecnisismo"
   ]
  },
  {
   "cell_type": "markdown",
   "metadata": {},
   "source": [
    "### Con matplotlib"
   ]
  },
  {
   "cell_type": "code",
   "execution_count": 16,
   "metadata": {},
   "outputs": [
    {
     "data": {
      "image/png": "[encoded data removed]",
      "text/plain": [
       "<Figure size 432x288 with 1 Axes>"
      ]
     },
     "metadata": {
      "needs_background": "light"
     },
     "output_type": "display_data"
    }
   ],
   "source": [
    "plt.plot(np.squeeze(modelo.predict_on_batch(datos['entradas'])), \n",
    "         np.squeeze(datos['targets']))\n",
    "plt.xlabel('predicciones')\n",
    "plt.ylabel('metas')\n",
    "plt.show()"
   ]
  },
  {
   "cell_type": "markdown",
   "metadata": {},
   "source": [
    "### Con Plotly Express"
   ]
  },
  {
   "cell_type": "code",
   "execution_count": 17,
   "metadata": {},
   "outputs": [
    {
     "data": {
      "application/vnd.plotly.v1+json": {
       "config": {
        "plotlyServerURL": "https://plot.ly"
       },
       "data": [
        {
         "hovertemplate": "x=%{x}<br>y=%{y}<extra></extra>",
         "legendgroup": "",
         "marker": {
          "color": "#636efa",
          "symbol": "circle"
         },
         "mode": "markers",
         "name": "",
         "orientation": "v",
         "showlegend": false,
         "type": "scatter",
         "x": [
          null,
          null,
          null,
          null,
          null,
          null,
          null,
          null,
          null,
          null,
          null,
          null,
          null,
          null,
          null,
          null,
          null,
          null,
          null,
          null,
          null,
          null,
          null,
          null,
          null,
          null,
          null,
          null,
          null,
          null,
          null,
          null,
          null,
          null,
          null,
          null,
          null,
          null,
          null,
          null,
          null,
          null,
          null,
          null,
          null,
          null,
          null,
          null,
          null,
          null,
          null,
          null,
          null,
          null,
          null,
          null,
          null,
          null,
          null,
          null,
          null,
          null,
          null,
          null,
          null,
          null,
          null,
          null,
          null,
          null,
          null,
          null,
          null,
          null,
          null,
          null,
          null,
          null,
          null,
          null,
          null,
          null,
          null,
          null,
          null,
          null,
          null,
          null,
          null,
          null,
          null,
          null,
          null,
          null,
          null,
          null,
          null,
          null,
          null,
          null,
          null,
          null,
          null,
          null,
          null,
          null,
          null,
          null,
          null,
          null,
          null,
          null,
          null,
          null,
          null,
          null,
          null,
          null,
          null,
          null,
          null,
          null,
          null,
          null,
          null,
          null,
          null,
          null,
          null,
          null,
          null,
          null,
          null,
          null,
          null,
          null,
          null,
          null,
          null,
          null,
          null,
          null,
          null,
          null,
          null,
          null,
          null,
          null,
          null,
          null,
          null,
          null,
          null,
          null,
          null,
          null,
          null,
          null,
          null,
          null,
          null,
          null,
          null,
          null,
          null,
          null,
          null,
          null,
          null,
          null,
          null,
          null,
          null,
          null,
          null,
          null,
          null,
          null,
          null,
          null,
          null,
          null,
          null,
          null,
          null,
          null,
          null,
          null,
          null,
          null,
          null,
          null,
          null,
          null,
          null,
          null,
          null,
          null,
          null,
          null,
          null,
          null,
          null,
          null,
          null,
          null,
          null,
          null,
          null,
          null,
          null,
          null,
          null,
          null,
          null,
          null,
          null,
          null,
          null,
          null,
          null,
          null,
          null,
          null,
          null,
          null,
          null,
          null,
          null,
          null,
          null,
          null,
          null,
          null,
          null,
          null,
          null,
          null,
          null,
          null,
          null,
          null,
          null,
          null,
          null,
          null,
          null,
          null,
          null,
          null,
          null,
          null,
          null,
          null,
          null,
          null,
          null,
          null,
          null,
          null,
          null,
          null,
          null,
          null,
          null,
          null,
          null,
          null,
          null,
          null,
          null,
          null,
          null,
          null,
          null,
          null,
          null,
          null,
          null,
          null,
          null,
          null,
          null,
          null,
          null,
          null,
          null,
          null,
          null,
          null,
          null,
          null,
          null,
          null,
          null,
          null,
          null,
          null,
          null,
          null,
          null,
          null,
          null,
          null,
          null,
          null,
          null,
          null,
          null,
          null,
          null,
          null,
          null,
          null,
          null,
          null,
          null,
          null,
          null,
          null,
          null,
          null,
          null,
          null,
          null,
          null,
          null,
          null,
          null,
          null,
          null,
          null,
          null,
          null,
          null,
          null,
          null,
          null,
          null,
          null,
          null,
          null,
          null,
          null,
          null,
          null,
          null,
          null,
          null,
          null,
          null,
          null,
          null,
          null,
          null,
          null,
          null,
          null,
          null,
          null,
          null,
          null,
          null,
          null,
          null,
          null,
          null,
          null,
          null,
          null,
          null,
          null,
          null,
          null,
          null,
          null,
          null,
          null,
          null,
          null,
          null,
          null,
          null,
          null,
          null,
          null,
          null,
          null,
          null,
          null,
          null,
          null,
          null,
          null,
          null,
          null,
          null,
          null,
          null,
          null,
          null,
          null,
          null,
          null,
          null,
          null,
          null,
          null,
          null,
          null,
          null,
          null,
          null,
          null,
          null,
          null,
          null,
          null,
          null,
          null,
          null,
          null,
          null,
          null,
          null,
          null,
          null,
          null,
          null,
          null,
          null,
          null,
          null,
          null,
          null,
          null,
          null,
          null,
          null,
          null,
          null,
          null,
          null,
          null,
          null,
          null,
          null,
          null,
          null,
          null,
          null,
          null,
          null,
          null,
          null,
          null,
          null,
          null,
          null,
          null,
          null,
          null,
          null,
          null,
          null,
          null,
          null,
          null,
          null,
          null,
          null,
          null,
          null,
          null,
          null,
          null,
          null,
          null,
          null,
          null,
          null,
          null,
          null,
          null,
          null,
          null,
          null,
          null,
          null,
          null,
          null,
          null,
          null,
          null,
          null,
          null,
          null,
          null,
          null,
          null,
          null,
          null,
          null,
          null,
          null,
          null,
          null,
          null,
          null,
          null,
          null,
          null,
          null,
          null,
          null,
          null,
          null,
          null,
          null,
          null,
          null,
          null,
          null,
          null,
          null,
          null,
          null,
          null,
          null,
          null,
          null,
          null,
          null,
          null,
          null,
          null,
          null,
          null,
          null,
          null,
          null,
          null,
          null,
          null,
          null,
          null,
          null,
          null,
          null,
          null,
          null,
          null,
          null,
          null,
          null,
          null,
          null,
          null,
          null,
          null,
          null,
          null,
          null,
          null,
          null,
          null,
          null,
          null,
          null,
          null,
          null,
          null,
          null,
          null,
          null,
          null,
          null,
          null,
          null,
          null,
          null,
          null,
          null,
          null,
          null,
          null,
          null,
          null,
          null,
          null,
          null,
          null,
          null,
          null,
          null,
          null,
          null,
          null,
          null,
          null,
          null,
          null,
          null,
          null,
          null,
          null,
          null,
          null,
          null,
          null,
          null,
          null,
          null,
          null,
          null,
          null,
          null,
          null,
          null,
          null,
          null,
          null,
          null,
          null,
          null,
          null,
          null,
          null,
          null,
          null,
          null,
          null,
          null,
          null,
          null,
          null,
          null,
          null,
          null,
          null,
          null,
          null,
          null,
          null,
          null,
          null,
          null,
          null,
          null,
          null,
          null,
          null,
          null,
          null,
          null,
          null,
          null,
          null,
          null,
          null,
          null,
          null,
          null,
          null,
          null,
          null,
          null,
          null,
          null,
          null,
          null,
          null,
          null,
          null,
          null,
          null,
          null,
          null,
          null,
          null,
          null,
          null,
          null,
          null,
          null,
          null,
          null,
          null,
          null,
          null,
          null,
          null,
          null,
          null,
          null,
          null,
          null,
          null,
          null,
          null,
          null,
          null,
          null,
          null,
          null,
          null,
          null,
          null,
          null,
          null,
          null,
          null,
          null,
          null,
          null,
          null,
          null,
          null,
          null,
          null,
          null,
          null,
          null,
          null,
          null,
          null,
          null,
          null,
          null,
          null,
          null,
          null,
          null,
          null,
          null,
          null,
          null,
          null,
          null,
          null,
          null,
          null,
          null,
          null,
          null,
          null,
          null,
          null,
          null,
          null,
          null,
          null,
          null,
          null,
          null,
          null,
          null,
          null,
          null,
          null,
          null,
          null,
          null,
          null,
          null,
          null,
          null,
          null,
          null,
          null,
          null,
          null,
          null,
          null,
          null,
          null,
          null,
          null,
          null,
          null,
          null,
          null,
          null,
          null,
          null,
          null,
          null,
          null,
          null,
          null,
          null,
          null,
          null,
          null,
          null,
          null,
          null,
          null,
          null,
          null,
          null,
          null,
          null,
          null,
          null,
          null,
          null,
          null,
          null,
          null,
          null,
          null,
          null,
          null,
          null,
          null,
          null,
          null,
          null,
          null,
          null,
          null,
          null,
          null,
          null,
          null,
          null,
          null,
          null,
          null,
          null,
          null,
          null,
          null,
          null,
          null,
          null,
          null,
          null,
          null,
          null,
          null,
          null,
          null,
          null,
          null,
          null,
          null,
          null,
          null,
          null,
          null,
          null,
          null,
          null,
          null,
          null,
          null,
          null,
          null,
          null,
          null,
          null,
          null,
          null,
          null,
          null,
          null,
          null,
          null,
          null,
          null,
          null,
          null,
          null,
          null,
          null,
          null,
          null,
          null,
          null,
          null,
          null,
          null,
          null,
          null,
          null,
          null,
          null,
          null,
          null,
          null,
          null,
          null,
          null,
          null,
          null,
          null,
          null,
          null,
          null,
          null,
          null,
          null,
          null,
          null,
          null,
          null,
          null,
          null,
          null,
          null,
          null,
          null,
          null,
          null,
          null,
          null,
          null,
          null,
          null,
          null,
          null,
          null,
          null,
          null,
          null,
          null,
          null,
          null,
          null,
          null,
          null,
          null,
          null,
          null,
          null,
          null,
          null,
          null,
          null,
          null,
          null,
          null,
          null,
          null,
          null,
          null,
          null,
          null,
          null,
          null,
          null,
          null,
          null,
          null,
          null,
          null,
          null,
          null,
          null,
          null,
          null,
          null,
          null,
          null,
          null,
          null,
          null,
          null,
          null,
          null,
          null,
          null,
          null,
          null,
          null,
          null,
          null,
          null,
          null,
          null,
          null,
          null,
          null,
          null,
          null,
          null,
          null,
          null,
          null,
          null,
          null,
          null,
          null,
          null,
          null,
          null,
          null,
          null
         ],
         "xaxis": "x",
         "y": [
          10.938817644502302,
          -30.853590853820048,
          11.79141817645077,
          19.53918745550322,
          -3.6746643624378095,
          -7.230892801079468,
          -15.771261965533855,
          -8.293761871267252,
          0.28741080673286556,
          10.322396592916148,
          39.0133714158019,
          17.23823170864093,
          7.117041043681793,
          -11.549675366273675,
          33.53567551595578,
          29.0920004812318,
          1.3938155604297224,
          16.154797465636552,
          -18.885683334399985,
          31.240084642874525,
          4.539256264884667,
          16.036763987999215,
          -32.413710654362994,
          -18.997450353764737,
          -20.76275326463778,
          3.632603697035173,
          -24.13773725708565,
          0.4888065113559583,
          22.119457481577644,
          22.449212920852972,
          30.015903652983283,
          27.045191338530522,
          -27.228850695633867,
          -34.203965699438506,
          -23.292148076204438,
          -6.6188697520994255,
          -2.574130510308616,
          25.45001284412418,
          -27.442894692603193,
          -22.415028926327754,
          -18.566632586208023,
          13.601101805451707,
          -18.4837165928925,
          -3.6508926278128797,
          23.305969518153034,
          -8.379490088339095,
          25.507555813969873,
          37.927889246851464,
          -23.668214700381583,
          0.09975060159760862,
          -29.09757189796595,
          -8.502472971085629,
          15.997419160568143,
          12.355727817182219,
          -34.24762350967158,
          17.6155600628867,
          15.334119557432444,
          -6.070061414614461,
          -28.921995647972345,
          -13.98919151524402,
          6.438775450607677,
          21.74409114061064,
          -23.750036074675094,
          30.355623240450083,
          -6.134832741391089,
          -8.19300847923521,
          -38.93386166325691,
          19.706966495119808,
          29.216681408428325,
          -4.358774114730779,
          25.06660596631775,
          26.0923843604078,
          25.62857049623086,
          5.614938219974216,
          -8.313512144503067,
          11.279952019593539,
          22.355940778692744,
          36.980924501199354,
          44.82488785656162,
          29.447920682505906,
          23.240988420117755,
          -8.876991375710466,
          6.849829073697252,
          -27.68128343056578,
          3.374029151144925,
          9.14706840345506,
          3.173266800163053,
          24.5064330080304,
          -11.73281422066859,
          23.665962711610835,
          -7.2082922364468285,
          -15.167090983774868,
          11.828624381245055,
          0.26689038823941136,
          -8.151470487546158,
          11.11205159817361,
          -11.684652710645269,
          15.86035939582875,
          -8.493499808276756,
          10.349300239968597,
          22.525657919969746,
          11.494550396241857,
          -7.455348571960413,
          -4.423192424460504,
          -28.034509229772038,
          -23.7965673532075,
          -38.965873455193254,
          -5.386991395149106,
          21.91764122628413,
          -4.451353514291855,
          12.70183025461766,
          -0.4873976309882899,
          -22.66269752931691,
          -32.39852067307694,
          33.306772881789534,
          -28.903189647795504,
          47.131157507392366,
          -28.49555010614455,
          4.319873821125542,
          -15.64920515769755,
          -15.441068397622297,
          5.877910600160984,
          -4.208935736842395,
          5.350515616047878,
          5.791440816983677,
          26.015648945348122,
          -18.357476659368373,
          21.942639734120313,
          7.958277558695311,
          -25.372311061055438,
          37.95711090682084,
          -10.253650422377193,
          27.588274954784264,
          -5.978695880556108,
          -30.99296018217217,
          41.91893983836084,
          -8.335023180295446,
          -21.345339894673007,
          -7.963701440295381,
          14.071226055476,
          6.084859724382702,
          33.90970713894855,
          16.425337440490033,
          -9.651384479147687,
          2.1683342510271455,
          -16.6430283300362,
          6.4576505626692935,
          -15.878170175581175,
          21.826655352359246,
          41.163269854903525,
          -38.98653407665509,
          49.51597091725528,
          -20.085186364623826,
          8.724172209731078,
          -24.09592051922744,
          13.34540984506124,
          -14.950384158666362,
          -20.706965994527376,
          -25.372093082673324,
          6.694004915965902,
          -24.62321365108918,
          -7.019512403592194,
          38.603694502872074,
          20.749948564391232,
          -20.997344254530923,
          13.172156030289262,
          -1.336276232517948,
          9.305564847840463,
          36.39188367130938,
          25.74708330111484,
          13.771732623115524,
          20.992152571199917,
          -13.108400413363398,
          44.143253131550054,
          17.555506994001718,
          2.334180492570476,
          -25.537921181711493,
          1.9380775932461252,
          21.474738514433316,
          4.588105276308028,
          -31.20996485562578,
          2.445043456930337,
          11.789387591522575,
          26.273643044483848,
          -11.011508444450683,
          -7.033611473936638,
          19.210734701490424,
          -0.23110141658818795,
          20.54324282098874,
          26.188936002439668,
          -2.548555768989495,
          25.47867150780705,
          17.021951262926258,
          -4.490829410556614,
          35.434341064201874,
          -24.35807284492057,
          -4.148884215826774,
          7.238395331139604,
          -19.876996366006324,
          -3.1084531661920973,
          -31.26937955377213,
          -13.927104474552149,
          21.186864548431203,
          15.489161323990754,
          -11.852917027655483,
          -8.608170997157996,
          0.3537813470807658,
          27.927796219477123,
          20.016182851022243,
          -18.229399551133096,
          -17.885680427068188,
          11.540300090513535,
          -8.621448743461924,
          31.691264917473198,
          -12.683661484085045,
          35.31893406661001,
          29.815732126691316,
          34.49300604136802,
          -7.500788628769275,
          -13.291906879259512,
          2.2337490859189213,
          4.5174440772773305,
          -21.461643656647922,
          9.652844260205521,
          -30.330834963466973,
          40.80253394812702,
          36.16149790011157,
          -22.025330066959878,
          6.036257955665189,
          -1.088078712339644,
          -4.976479320182735,
          0.14907820774584413,
          -0.06643307044398705,
          -10.456970116761893,
          -9.751186673993711,
          -13.568662108656191,
          -11.641516649766329,
          50.368540869727696,
          -10.507770321618594,
          8.524093232693692,
          -12.61706599586671,
          37.37711913875272,
          19.279617861293364,
          -16.833154285820644,
          -4.683530791607009,
          -21.422360899664557,
          5.53332326671052,
          11.641206823824197,
          29.136473755397162,
          -30.700678385999034,
          4.568270460552736,
          21.730336528045076,
          11.995797105701985,
          -29.174174507618286,
          -30.898799916702924,
          -11.273354717809342,
          24.182712226080074,
          4.687966280910462,
          -27.620249495240685,
          10.340878330141836,
          -13.933129836994732,
          38.65203205424682,
          17.535911159080705,
          -15.485676254092224,
          33.9780791965271,
          36.18414695785782,
          26.637807544524648,
          27.222153601992744,
          20.081204952619572,
          -23.3472166840709,
          -32.1105063379043,
          8.21183304520953,
          -14.573829142909958,
          29.13367896704726,
          -23.31014183313203,
          4.5914780843089735,
          -27.17441412109133,
          -29.873380010068054,
          15.503334282102973,
          -5.074653098996821,
          9.779522327111934,
          0.25015056980453054,
          12.83564640358164,
          -1.8537689079413158,
          -37.32675295716047,
          -40.27642366276819,
          -13.309704819481565,
          15.931235854242964,
          12.944081024852155,
          12.607118193989088,
          9.319150001563258,
          2.913290062066359,
          -15.695189135723426,
          35.17769387784273,
          -2.6998457874965895,
          22.520281831958343,
          -7.672170622293774,
          9.694012263197706,
          36.61396968666655,
          -7.060515358162256,
          29.403264278265983,
          0.08197597876757512,
          -3.8314898180962436,
          9.791386551155943,
          -24.07862235270685,
          17.282959375658205,
          42.37449572458749,
          25.644878444592994,
          2.33927892940744,
          5.7959607838124985,
          12.304796674445036,
          8.16633824965896,
          16.417362892670802,
          8.878683232423398,
          22.706870461375253,
          7.4585775370604175,
          24.072790467377903,
          23.690557686917813,
          14.715039365502037,
          -7.739708975950834,
          -39.228638859153705,
          -2.715941924312986,
          29.563066383128778,
          9.57176896435867,
          3.7400518073582054,
          1.7775574886298728,
          12.405502040275794,
          -42.052579554222554,
          44.185643232096915,
          -3.8504857725439647,
          8.373145509425331,
          36.570971920060146,
          9.948721785739778,
          -10.266769771303082,
          -15.217520730281375,
          20.318251813551974,
          -9.520377650295984,
          -4.621236941167156,
          4.4275902101432205,
          -5.272790165002521,
          -8.248466071300475,
          -0.5583609467459676,
          16.36102918786436,
          -12.924096766081274,
          -15.48831329171128,
          23.26953838470462,
          48.218140897083764,
          47.80351134908012,
          8.241787681239359,
          -35.45794243788079,
          -6.190811807142362,
          20.944075239432927,
          -12.254475566051406,
          -1.1883682537508005,
          -1.1010417093243334,
          21.741814171903894,
          12.290293522727458,
          19.94211592225313,
          -36.48530129939164,
          -9.642799893132155,
          2.331224910381258,
          -6.059714695912636,
          -11.054420945917519,
          40.69397692303164,
          23.3114916089096,
          -30.801261971320745,
          2.155065078149539,
          5.925757444792117,
          2.1808522507062467,
          -6.036069381041522,
          -24.664313284808777,
          -29.348306785110175,
          4.9339185916331125,
          28.980488483572596,
          0.7037471876934409,
          17.490027354014575,
          -23.375297869549872,
          19.22554222888042,
          -3.259269228136856,
          -10.72714717626629,
          18.1240416937027,
          33.198394993794125,
          12.839267539999371,
          10.533543182376208,
          -9.573521803523061,
          -4.6982787417442875,
          19.644958229549893,
          -2.16119145745487,
          5.314598682608533,
          35.972430201890056,
          19.710939834643447,
          31.333178584865134,
          -1.1911116317984713,
          38.21700739183286,
          32.10778760579532,
          37.745450209324396,
          -9.785360851036199,
          8.983861227289646,
          -33.161348991610865,
          24.818117627098204,
          -6.126836986513483,
          21.663868286520533,
          -4.095219731939329,
          -12.249076827047258,
          3.392680746863488,
          -7.333633825653229,
          -8.983218317079208,
          52.33750802050379,
          -2.3004392264610445,
          12.427781338249021,
          4.557886839975834,
          -14.8121692606307,
          -10.151585901320269,
          16.661468754080662,
          -6.546187202062159,
          -8.551232848727606,
          11.471229110962913,
          48.507817260596845,
          2.9662176771665205,
          -18.746213201930658,
          16.829505430085092,
          32.402262590656825,
          43.972463212271975,
          -21.174552490450647,
          12.747397642504911,
          12.381988616422902,
          -4.237729510721934,
          18.651284837672968,
          -4.195046487892025,
          35.25918733577587,
          30.85424983322865,
          -32.73278858849263,
          0.4582786049656602,
          14.548279395030267,
          32.71836685818261,
          22.75641972459807,
          22.359928210707167,
          -7.003939238706639,
          32.50105776028482,
          -23.17457034203828,
          -2.433819101530771,
          -18.692791794202325,
          23.885588911497216,
          18.83610625314824,
          -11.989730488237655,
          5.4486679908513125,
          -4.521587381904597,
          15.69191190659279,
          -4.277159560358285,
          -32.195660585937645,
          -13.919728252401256,
          16.394938325271188,
          -1.0731784824100716,
          -31.337655013306993,
          30.739292332624494,
          36.23271188544454,
          43.13833517175652,
          47.44424504513747,
          32.40417407158526,
          -15.273929718430441,
          27.05762165981754,
          -27.181516473392158,
          23.944950074429176,
          -4.4777907232356124,
          -20.91475022133398,
          -28.405031409506723,
          -5.153117127523528,
          -33.737066822015805,
          24.421854503291705,
          34.99958082711928,
          -0.6932150227655156,
          -41.46584906105037,
          -29.926510930618587,
          -13.899395664623182,
          18.404984362664393,
          41.61970676385513,
          -10.991935177667637,
          1.1235079673672776,
          10.989135674168033,
          -15.706372652017064,
          30.08625613086032,
          0.18807204215671303,
          -4.652994860025018,
          13.473760962481027,
          39.876771625762636,
          -18.298766742852866,
          26.20505537878672,
          30.57501862072399,
          -5.680964732843112,
          -10.80619014413099,
          -1.732319713605288,
          28.971050857423027,
          30.993372416168803,
          38.38742372051681,
          52.97294675174203,
          41.143983075977474,
          -3.246291057800477,
          -27.377605838831517,
          14.913618746695793,
          -12.91290267603761,
          -12.842844552582335,
          20.434316185385516,
          13.738323260561664,
          -12.794107451350978,
          -23.086826493439617,
          -8.406219070852806,
          35.315412848076065,
          45.34884713911747,
          33.985822025425975,
          35.10663923388571,
          -7.057423544294878,
          -9.964073363002713,
          20.341982562751728,
          12.211950399392872,
          13.274628278805753,
          -20.787886132772492,
          44.54725912107341,
          -8.838115728364732,
          2.4977304665460647,
          -5.936838768545007,
          22.773930917654095,
          14.119508324177168,
          19.11364092054998,
          -7.046597791103796,
          14.0024083030279,
          -16.743997810695596,
          -16.36072533317423,
          -21.265840680460535,
          -33.19611264416928,
          5.7148911824152675,
          -23.205882518017933,
          -9.227052794921457,
          -17.279551573545316,
          21.264297077513497,
          38.24191473995479,
          25.101970319290068,
          32.438689279646105,
          -21.496247393159173,
          -23.526378681328488,
          -14.08891125873592,
          13.266110074993538,
          6.388412038648616,
          13.974905006060002,
          -21.729494101617025,
          20.870546561322428,
          -23.524065536823272,
          2.572943913730811,
          19.03765653936761,
          -6.919775375223034,
          -19.757524508736992,
          -5.249344640469612,
          -9.95288412229906,
          -5.928285213677512,
          26.68606285501604,
          -6.083557843412734,
          21.579414383317935,
          10.279825585314933,
          44.44203790960481,
          43.86557979868543,
          20.78062282872048,
          44.14671912595614,
          28.736109210131517,
          12.64722180873723,
          27.379084411282864,
          41.34567894683664,
          -6.882421254952013,
          -19.239962468754506,
          10.31680705405086,
          -15.622981789822177,
          12.160303836667717,
          -34.35638783071447,
          -5.409156879274297,
          11.87726290928247,
          -13.786069563605649,
          -7.208673760837665,
          23.939337524877676,
          44.386654878989624,
          -7.73730177747529,
          10.988565352618231,
          -10.31157848570953,
          -16.86152266077066,
          -17.553068018357212,
          -37.15007554393558,
          -9.98738664783237,
          21.157691601670898,
          32.44455592794126,
          10.562253328574384,
          13.430618412066886,
          -7.52947383129459,
          6.6137245743300905,
          7.563935685203003,
          -1.1029065927035826,
          24.9121722664639,
          -5.670542023901359,
          -29.914874968717555,
          -11.693780789207935,
          10.199819490085872,
          12.938790420708514,
          -16.862723211360763,
          32.75399293855168,
          -7.259794489302205,
          -8.013412044656143,
          -39.04379329093575,
          2.851057319916637,
          34.849724099080575,
          30.027433146954785,
          21.95902842127096,
          23.220760512224366,
          47.825687413163585,
          -25.860880844209166,
          34.04440126160168,
          20.65447732312878,
          52.3125470781703,
          12.150314377310337,
          8.470768600632193,
          -5.66678816330133,
          30.674969995198726,
          3.9696959507851677,
          20.791202643513614,
          6.253355115887748,
          21.080170174264065,
          40.338214435920875,
          15.640272459711184,
          14.776831199787138,
          4.317048517269388,
          -25.306732622048802,
          -10.003192469632149,
          -27.541944799344424,
          26.213400721018353,
          -18.70189212014502,
          31.784505532306625,
          -25.640261394313796,
          -12.31204006306725,
          39.39395704245166,
          15.537696167976124,
          -24.159645806632465,
          -6.513073146388863,
          -14.912144235943163,
          23.224395310270605,
          -0.23853566456151087,
          28.608631968717,
          1.1990448553918758,
          -6.070457900413993,
          -17.64120292336724,
          15.392257257443356,
          -15.638918858345342,
          17.148636572918065,
          4.872637117697726,
          30.05631503377009,
          -1.1939477378725372,
          -19.978380587061565,
          -24.811140223872233,
          -0.7094756102922142,
          -19.304326582448546,
          17.089951638823894,
          42.88840302518485,
          42.7775502893524,
          19.73117757167064,
          -25.566449177487733,
          -4.850099682449238,
          4.270741870122816,
          15.906979524228863,
          23.83757736436998,
          4.847869767523395,
          -7.160610776961706,
          -16.96681611685964,
          49.58783946200181,
          0.8506578117182622,
          -3.737662083176115,
          23.46418641429394,
          34.7921758119468,
          23.82212252743978,
          -5.612588223531521,
          -21.696276419164175,
          -1.8507632284010653,
          -4.848715183688053,
          -25.209567299150198,
          23.317071893542213,
          -16.941585203009502,
          -1.753809060429629,
          35.28366298441396,
          12.926240199090227,
          16.989211173811128,
          -8.296969140108843,
          -12.895531444654658,
          -4.813831799421151,
          -19.073207087252133,
          1.4955719221873263,
          13.695023161650697,
          11.633363514503799,
          -31.72553007899907,
          -29.281022612873965,
          1.301843204854735,
          18.988696282903565,
          42.54225893867086,
          -17.049956920391296,
          -26.998877055920182,
          -16.20552108744468,
          9.4307441468869,
          21.363851436878818,
          -8.165621424269734,
          6.508723023558522,
          10.88921103090833,
          -10.457381339751983,
          11.378277632719069,
          34.25516107546931,
          -5.208950403310743,
          -36.32887627342855,
          3.838253675638656,
          19.08658877967145,
          41.823146202629886,
          -21.5932923942354,
          -6.90660016668887,
          -7.042572914259831,
          -2.408015669330677,
          8.645151843294125,
          -0.35361058522175304,
          0.31354137737842147,
          -7.423394864541018,
          26.46634124900042,
          -16.928812647034405,
          30.154377891267657,
          40.7805581937592,
          7.642592726606417,
          -3.5929629833378574,
          14.114399296305171,
          -4.053395920333782,
          19.1906837016988,
          18.54939127393991,
          -1.8687414757922107,
          40.80752496131275,
          38.96289621103149,
          26.54631045218907,
          26.11615738528831,
          26.054720227672924,
          24.84736132533026,
          14.032948167800528,
          -36.20651867599771,
          25.52027409973686,
          -11.424340013814193,
          -4.82610418941271,
          51.03635021440013,
          20.265842932546445,
          21.120002468294096,
          14.505115096813649,
          3.265253865841135,
          0.9859330254969667,
          -38.89334166592401,
          -21.479494227766782,
          -11.012870896572808,
          -37.3872970938716,
          -28.042453027901686,
          -34.34560425569762,
          -0.04459685959125648,
          13.0512215040696,
          14.259676819455784,
          -32.987238598422444,
          16.708275139299076,
          23.56553101097175,
          -7.382027931371523,
          -0.8842284180593667,
          -7.7969097179239295,
          -6.166279035813982,
          28.440369104099354,
          -30.392023134233668,
          10.248250199048863,
          14.758181627489037,
          4.298372355555474,
          -27.38278347182153,
          -2.4903225701780567,
          16.688199579766792,
          37.831417957742985,
          12.60623047895978,
          6.821321900321317,
          22.174493316218378,
          49.38435922372215,
          -13.912948839968555,
          20.078141723022004,
          13.984995228249051,
          -0.06340327084475827,
          -22.14676963346951,
          -6.890925510274812,
          33.58605293292071,
          1.860056513828469,
          -17.289610426749558,
          -28.60092790030133,
          10.227289278454139,
          45.311181121925344,
          -27.057998567797778,
          -4.080867214268121,
          -3.670206920324012,
          -14.253225624610536,
          7.313209985705286,
          -9.060829139579202,
          48.0792849043769,
          -5.511640498290916,
          -15.773040473923508,
          30.185058158874835,
          14.846658845014868,
          -33.46628998817757,
          45.02688100053205,
          -7.8147115718604,
          -18.78721324744706,
          9.365628164824404,
          -14.472203080673552,
          -10.018007024444188,
          19.25378572586133,
          31.46266358176873,
          3.620629102726852,
          -17.515129450835147,
          10.283739643443507,
          -3.723536699254945,
          0.31650315563537856,
          -15.550448575778635,
          27.41886038410099,
          0.23177552599880724,
          4.027194488756988,
          -20.499544361956477,
          27.970978384164383,
          -42.30786612468238,
          12.474571822981709,
          -18.553690997828493,
          19.567324625922236,
          14.845224280507878,
          -14.974962039233027,
          -1.44052651225168,
          14.558506773957943,
          -4.95507852105192,
          -12.798615685612367,
          28.172851491972168,
          -9.060795548719076,
          26.43084458731496,
          18.113865315121554,
          12.95469508358987,
          21.411643007706246,
          14.315294716125715,
          -22.113015079625303,
          38.09301515922508,
          23.568899331845543,
          -38.46668698582497,
          -24.48475954917286,
          20.1445794590943,
          13.382456674194081,
          -5.628140127034651,
          37.90261588559645,
          52.36919927943625,
          3.721100515808617,
          9.849035189845395,
          -5.919577421931633,
          11.946343730732288,
          -17.119979166172232,
          4.463530587942397,
          -17.81274614079091,
          30.55640533951461,
          20.85705207488076,
          -15.135397623657818,
          7.024478810835548,
          34.14760674459675,
          11.254445626041127,
          -2.2923561726983035,
          27.295513729224073,
          -12.888860028579884,
          10.12269189534228,
          -22.022526695921947,
          -12.130320992678133,
          -23.18019364599019,
          -18.270991620891962,
          18.56800291601493,
          3.835820680056635,
          16.697675496762344,
          7.024325285186613,
          -30.221056199618648,
          -6.172778938970834,
          -19.79263976245136,
          -0.26470871559603304,
          12.521683019325064,
          31.46925707451909,
          16.377371833307304,
          -2.133915004181801,
          -7.970997788480554,
          15.802729636768294,
          13.067491526373676,
          8.52172295377613,
          44.19391625111114,
          6.712442252466173,
          -11.89331891995755,
          -3.229786099560634,
          16.60485569602979,
          7.739310497853506,
          -27.11492613450795,
          8.930485161476053,
          -31.178382611768487,
          14.452319502803299,
          44.68110164233114,
          31.14442923802937,
          27.335097494836145,
          2.6006239704754455,
          21.210399057461167,
          -21.46777200564092,
          43.18363447539396,
          -35.5486016080641,
          39.43441393568943,
          15.423455928150869,
          -3.972068833344361,
          18.35578225334091,
          12.72406256156009,
          13.594831770538335,
          4.5800234876124115,
          -8.116955628565462,
          -13.46348871744586,
          16.086290876732857,
          38.71917838390188,
          19.674811385419222,
          -15.117773961801143,
          -8.74889845665231,
          27.736461068906873,
          -16.01730631523741,
          31.217126345235297,
          -8.953508851619924,
          -9.701939160036153,
          30.74387092168127,
          9.810509514335624,
          0.7892927241760059,
          6.660101847197068,
          17.64239245341602,
          -30.240592508630222,
          18.778358229299737,
          28.050696524259635,
          17.293706873950423,
          30.70609502220406,
          -5.8530522250832115,
          0.47600207118551485,
          23.584760446610815,
          -19.394618922154514,
          -2.4618101556185543,
          -7.70486647216514,
          40.8597430174528,
          8.345081322581988,
          -18.469633429575588,
          12.747570876528663,
          22.093906869474292,
          8.870314393409714,
          -21.583129514623387,
          -26.246652881778722,
          42.204350686352,
          29.240664851370774,
          10.964250244828987,
          -0.12228317877428485,
          20.827527335157477,
          11.590954871925755,
          -9.414251252667837,
          15.817396068890714,
          -31.404500121709702,
          -19.109192034836383,
          -10.105711280764485,
          18.22966867995056,
          41.27156902838011,
          25.645518596141414,
          31.47154024655207,
          -0.5609333515012422,
          -34.12758435153758,
          -34.367477173876495,
          1.0262433568125955,
          -11.475174832715535,
          20.114643973097177,
          -30.62593412021488,
          15.688683883906783,
          -0.1559638956452949,
          -12.849924982840033,
          -4.189268083198725,
          12.825453831981635,
          13.700398828201024,
          17.813520885787238,
          0.1540020052306017,
          -29.83180433002013,
          25.38177604807546,
          3.9320139111010945,
          31.370442585177706,
          -1.2544548868823162,
          -31.99097789675743,
          -13.82839666583487,
          -16.714647149184568,
          -5.1359511297685625,
          -14.373700404726655,
          16.04358819289358,
          5.562849402023453,
          -29.541648662599634,
          30.34494050808169,
          -20.142802873744476,
          -2.536458579129986,
          -9.84620433572033,
          -33.40144157896043,
          -34.622311361732244,
          3.3030965748889516,
          7.896443548527106,
          -18.8920396476926,
          -0.7323008217001661,
          -20.26538670896118,
          -1.4959054296466103,
          3.6941704006229052
         ],
         "yaxis": "y"
        }
       ],
       "layout": {
        "height": 400,
        "legend": {
         "tracegroupgap": 0
        },
        "margin": {
         "t": 60
        },
        "template": {
         "data": {
          "bar": [
           {
            "error_x": {
             "color": "#2a3f5f"
            },
            "error_y": {
             "color": "#2a3f5f"
            },
            "marker": {
             "line": {
              "color": "#E5ECF6",
              "width": 0.5
             },
             "pattern": {
              "fillmode": "overlay",
              "size": 10,
              "solidity": 0.2
             }
            },
            "type": "bar"
           }
          ],
          "barpolar": [
           {
            "marker": {
             "line": {
              "color": "#E5ECF6",
              "width": 0.5
             },
             "pattern": {
              "fillmode": "overlay",
              "size": 10,
              "solidity": 0.2
             }
            },
            "type": "barpolar"
           }
          ],
          "carpet": [
           {
            "aaxis": {
             "endlinecolor": "#2a3f5f",
             "gridcolor": "white",
             "linecolor": "white",
             "minorgridcolor": "white",
             "startlinecolor": "#2a3f5f"
            },
            "baxis": {
             "endlinecolor": "#2a3f5f",
             "gridcolor": "white",
             "linecolor": "white",
             "minorgridcolor": "white",
             "startlinecolor": "#2a3f5f"
            },
            "type": "carpet"
           }
          ],
          "choropleth": [
           {
            "colorbar": {
             "outlinewidth": 0,
             "ticks": ""
            },
            "type": "choropleth"
           }
          ],
          "contour": [
           {
            "colorbar": {
             "outlinewidth": 0,
             "ticks": ""
            },
            "colorscale": [
             [
              0,
              "#0d0887"
             ],
             [
              0.1111111111111111,
              "#46039f"
             ],
             [
              0.2222222222222222,
              "#7201a8"
             ],
             [
              0.3333333333333333,
              "#9c179e"
             ],
             [
              0.4444444444444444,
              "#bd3786"
             ],
             [
              0.5555555555555556,
              "#d8576b"
             ],
             [
              0.6666666666666666,
              "#ed7953"
             ],
             [
              0.7777777777777778,
              "#fb9f3a"
             ],
             [
              0.8888888888888888,
              "#fdca26"
             ],
             [
              1,
              "#f0f921"
             ]
            ],
            "type": "contour"
           }
          ],
          "contourcarpet": [
           {
            "colorbar": {
             "outlinewidth": 0,
             "ticks": ""
            },
            "type": "contourcarpet"
           }
          ],
          "heatmap": [
           {
            "colorbar": {
             "outlinewidth": 0,
             "ticks": ""
            },
            "colorscale": [
             [
              0,
              "#0d0887"
             ],
             [
              0.1111111111111111,
              "#46039f"
             ],
             [
              0.2222222222222222,
              "#7201a8"
             ],
             [
              0.3333333333333333,
              "#9c179e"
             ],
             [
              0.4444444444444444,
              "#bd3786"
             ],
             [
              0.5555555555555556,
              "#d8576b"
             ],
             [
              0.6666666666666666,
              "#ed7953"
             ],
             [
              0.7777777777777778,
              "#fb9f3a"
             ],
             [
              0.8888888888888888,
              "#fdca26"
             ],
             [
              1,
              "#f0f921"
             ]
            ],
            "type": "heatmap"
           }
          ],
          "heatmapgl": [
           {
            "colorbar": {
             "outlinewidth": 0,
             "ticks": ""
            },
            "colorscale": [
             [
              0,
              "#0d0887"
             ],
             [
              0.1111111111111111,
              "#46039f"
             ],
             [
              0.2222222222222222,
              "#7201a8"
             ],
             [
              0.3333333333333333,
              "#9c179e"
             ],
             [
              0.4444444444444444,
              "#bd3786"
             ],
             [
              0.5555555555555556,
              "#d8576b"
             ],
             [
              0.6666666666666666,
              "#ed7953"
             ],
             [
              0.7777777777777778,
              "#fb9f3a"
             ],
             [
              0.8888888888888888,
              "#fdca26"
             ],
             [
              1,
              "#f0f921"
             ]
            ],
            "type": "heatmapgl"
           }
          ],
          "histogram": [
           {
            "marker": {
             "pattern": {
              "fillmode": "overlay",
              "size": 10,
              "solidity": 0.2
             }
            },
            "type": "histogram"
           }
          ],
          "histogram2d": [
           {
            "colorbar": {
             "outlinewidth": 0,
             "ticks": ""
            },
            "colorscale": [
             [
              0,
              "#0d0887"
             ],
             [
              0.1111111111111111,
              "#46039f"
             ],
             [
              0.2222222222222222,
              "#7201a8"
             ],
             [
              0.3333333333333333,
              "#9c179e"
             ],
             [
              0.4444444444444444,
              "#bd3786"
             ],
             [
              0.5555555555555556,
              "#d8576b"
             ],
             [
              0.6666666666666666,
              "#ed7953"
             ],
             [
              0.7777777777777778,
              "#fb9f3a"
             ],
             [
              0.8888888888888888,
              "#fdca26"
             ],
             [
              1,
              "#f0f921"
             ]
            ],
            "type": "histogram2d"
           }
          ],
          "histogram2dcontour": [
           {
            "colorbar": {
             "outlinewidth": 0,
             "ticks": ""
            },
            "colorscale": [
             [
              0,
              "#0d0887"
             ],
             [
              0.1111111111111111,
              "#46039f"
             ],
             [
              0.2222222222222222,
              "#7201a8"
             ],
             [
              0.3333333333333333,
              "#9c179e"
             ],
             [
              0.4444444444444444,
              "#bd3786"
             ],
             [
              0.5555555555555556,
              "#d8576b"
             ],
             [
              0.6666666666666666,
              "#ed7953"
             ],
             [
              0.7777777777777778,
              "#fb9f3a"
             ],
             [
              0.8888888888888888,
              "#fdca26"
             ],
             [
              1,
              "#f0f921"
             ]
            ],
            "type": "histogram2dcontour"
           }
          ],
          "mesh3d": [
           {
            "colorbar": {
             "outlinewidth": 0,
             "ticks": ""
            },
            "type": "mesh3d"
           }
          ],
          "parcoords": [
           {
            "line": {
             "colorbar": {
              "outlinewidth": 0,
              "ticks": ""
             }
            },
            "type": "parcoords"
           }
          ],
          "pie": [
           {
            "automargin": true,
            "type": "pie"
           }
          ],
          "scatter": [
           {
            "fillpattern": {
             "fillmode": "overlay",
             "size": 10,
             "solidity": 0.2
            },
            "type": "scatter"
           }
          ],
          "scatter3d": [
           {
            "line": {
             "colorbar": {
              "outlinewidth": 0,
              "ticks": ""
             }
            },
            "marker": {
             "colorbar": {
              "outlinewidth": 0,
              "ticks": ""
             }
            },
            "type": "scatter3d"
           }
          ],
          "scattercarpet": [
           {
            "marker": {
             "colorbar": {
              "outlinewidth": 0,
              "ticks": ""
             }
            },
            "type": "scattercarpet"
           }
          ],
          "scattergeo": [
           {
            "marker": {
             "colorbar": {
              "outlinewidth": 0,
              "ticks": ""
             }
            },
            "type": "scattergeo"
           }
          ],
          "scattergl": [
           {
            "marker": {
             "colorbar": {
              "outlinewidth": 0,
              "ticks": ""
             }
            },
            "type": "scattergl"
           }
          ],
          "scattermapbox": [
           {
            "marker": {
             "colorbar": {
              "outlinewidth": 0,
              "ticks": ""
             }
            },
            "type": "scattermapbox"
           }
          ],
          "scatterpolar": [
           {
            "marker": {
             "colorbar": {
              "outlinewidth": 0,
              "ticks": ""
             }
            },
            "type": "scatterpolar"
           }
          ],
          "scatterpolargl": [
           {
            "marker": {
             "colorbar": {
              "outlinewidth": 0,
              "ticks": ""
             }
            },
            "type": "scatterpolargl"
           }
          ],
          "scatterternary": [
           {
            "marker": {
             "colorbar": {
              "outlinewidth": 0,
              "ticks": ""
             }
            },
            "type": "scatterternary"
           }
          ],
          "surface": [
           {
            "colorbar": {
             "outlinewidth": 0,
             "ticks": ""
            },
            "colorscale": [
             [
              0,
              "#0d0887"
             ],
             [
              0.1111111111111111,
              "#46039f"
             ],
             [
              0.2222222222222222,
              "#7201a8"
             ],
             [
              0.3333333333333333,
              "#9c179e"
             ],
             [
              0.4444444444444444,
              "#bd3786"
             ],
             [
              0.5555555555555556,
              "#d8576b"
             ],
             [
              0.6666666666666666,
              "#ed7953"
             ],
             [
              0.7777777777777778,
              "#fb9f3a"
             ],
             [
              0.8888888888888888,
              "#fdca26"
             ],
             [
              1,
              "#f0f921"
             ]
            ],
            "type": "surface"
           }
          ],
          "table": [
           {
            "cells": {
             "fill": {
              "color": "#EBF0F8"
             },
             "line": {
              "color": "white"
             }
            },
            "header": {
             "fill": {
              "color": "#C8D4E3"
             },
             "line": {
              "color": "white"
             }
            },
            "type": "table"
           }
          ]
         },
         "layout": {
          "annotationdefaults": {
           "arrowcolor": "#2a3f5f",
           "arrowhead": 0,
           "arrowwidth": 1
          },
          "autotypenumbers": "strict",
          "coloraxis": {
           "colorbar": {
            "outlinewidth": 0,
            "ticks": ""
           }
          },
          "colorscale": {
           "diverging": [
            [
             0,
             "#8e0152"
            ],
            [
             0.1,
             "#c51b7d"
            ],
            [
             0.2,
             "#de77ae"
            ],
            [
             0.3,
             "#f1b6da"
            ],
            [
             0.4,
             "#fde0ef"
            ],
            [
             0.5,
             "#f7f7f7"
            ],
            [
             0.6,
             "#e6f5d0"
            ],
            [
             0.7,
             "#b8e186"
            ],
            [
             0.8,
             "#7fbc41"
            ],
            [
             0.9,
             "#4d9221"
            ],
            [
             1,
             "#276419"
            ]
           ],
           "sequential": [
            [
             0,
             "#0d0887"
            ],
            [
             0.1111111111111111,
             "#46039f"
            ],
            [
             0.2222222222222222,
             "#7201a8"
            ],
            [
             0.3333333333333333,
             "#9c179e"
            ],
            [
             0.4444444444444444,
             "#bd3786"
            ],
            [
             0.5555555555555556,
             "#d8576b"
            ],
            [
             0.6666666666666666,
             "#ed7953"
            ],
            [
             0.7777777777777778,
             "#fb9f3a"
            ],
            [
             0.8888888888888888,
             "#fdca26"
            ],
            [
             1,
             "#f0f921"
            ]
           ],
           "sequentialminus": [
            [
             0,
             "#0d0887"
            ],
            [
             0.1111111111111111,
             "#46039f"
            ],
            [
             0.2222222222222222,
             "#7201a8"
            ],
            [
             0.3333333333333333,
             "#9c179e"
            ],
            [
             0.4444444444444444,
             "#bd3786"
            ],
            [
             0.5555555555555556,
             "#d8576b"
            ],
            [
             0.6666666666666666,
             "#ed7953"
            ],
            [
             0.7777777777777778,
             "#fb9f3a"
            ],
            [
             0.8888888888888888,
             "#fdca26"
            ],
            [
             1,
             "#f0f921"
            ]
           ]
          },
          "colorway": [
           "#636efa",
           "#EF553B",
           "#00cc96",
           "#ab63fa",
           "#FFA15A",
           "#19d3f3",
           "#FF6692",
           "#B6E880",
           "#FF97FF",
           "#FECB52"
          ],
          "font": {
           "color": "#2a3f5f"
          },
          "geo": {
           "bgcolor": "white",
           "lakecolor": "white",
           "landcolor": "#E5ECF6",
           "showlakes": true,
           "showland": true,
           "subunitcolor": "white"
          },
          "hoverlabel": {
           "align": "left"
          },
          "hovermode": "closest",
          "mapbox": {
           "style": "light"
          },
          "paper_bgcolor": "white",
          "plot_bgcolor": "#E5ECF6",
          "polar": {
           "angularaxis": {
            "gridcolor": "white",
            "linecolor": "white",
            "ticks": ""
           },
           "bgcolor": "#E5ECF6",
           "radialaxis": {
            "gridcolor": "white",
            "linecolor": "white",
            "ticks": ""
           }
          },
          "scene": {
           "xaxis": {
            "backgroundcolor": "#E5ECF6",
            "gridcolor": "white",
            "gridwidth": 2,
            "linecolor": "white",
            "showbackground": true,
            "ticks": "",
            "zerolinecolor": "white"
           },
           "yaxis": {
            "backgroundcolor": "#E5ECF6",
            "gridcolor": "white",
            "gridwidth": 2,
            "linecolor": "white",
            "showbackground": true,
            "ticks": "",
            "zerolinecolor": "white"
           },
           "zaxis": {
            "backgroundcolor": "#E5ECF6",
            "gridcolor": "white",
            "gridwidth": 2,
            "linecolor": "white",
            "showbackground": true,
            "ticks": "",
            "zerolinecolor": "white"
           }
          },
          "shapedefaults": {
           "line": {
            "color": "#2a3f5f"
           }
          },
          "ternary": {
           "aaxis": {
            "gridcolor": "white",
            "linecolor": "white",
            "ticks": ""
           },
           "baxis": {
            "gridcolor": "white",
            "linecolor": "white",
            "ticks": ""
           },
           "bgcolor": "#E5ECF6",
           "caxis": {
            "gridcolor": "white",
            "linecolor": "white",
            "ticks": ""
           }
          },
          "title": {
           "x": 0.05
          },
          "xaxis": {
           "automargin": true,
           "gridcolor": "white",
           "linecolor": "white",
           "ticks": "",
           "title": {
            "standoff": 15
           },
           "zerolinecolor": "white",
           "zerolinewidth": 2
          },
          "yaxis": {
           "automargin": true,
           "gridcolor": "white",
           "linecolor": "white",
           "ticks": "",
           "title": {
            "standoff": 15
           },
           "zerolinecolor": "white",
           "zerolinewidth": 2
          }
         }
        },
        "title": {
         "text": "Comparación predicciones vrs metas"
        },
        "width": 600,
        "xaxis": {
         "anchor": "y",
         "domain": [
          0,
          1
         ],
         "title": {
          "text": "Predicciones"
         }
        },
        "yaxis": {
         "anchor": "x",
         "domain": [
          0,
          1
         ],
         "title": {
          "text": "Metas"
         }
        }
       }
      }
     },
     "metadata": {},
     "output_type": "display_data"
    }
   ],
   "source": [
    "fig = px.scatter(x = np.squeeze(modelo.predict_on_batch(datos['entradas'])), \n",
    "                 y =  np.squeeze(datos['targets']))\n",
    "\n",
    "fig.update_layout(\n",
    "    title=\"Comparación predicciones vrs metas\",\n",
    "    xaxis_title=\"Predicciones\",\n",
    "    yaxis_title=\"Metas\",\n",
    "    width = 600,\n",
    "    height = 400,)\n",
    "\n",
    "fig.show()"
   ]
  },
  {
   "cell_type": "markdown",
   "metadata": {},
   "source": [
    "Listo, lo que se vé debe ser exactamente igual a lo que se vió en el ejercicio pasado!\n",
    "\n",
    "A estas alturas quizás no se le ve la gracia al TensorFlow.  En términos de líneas código es igual al del ejercicio con NumPy para llegar al mismo resultado.  Sin embargo, a medida que se profundice en el tema, se podrá ver que TensorFlow ahorra cientos de líneas de código."
   ]
  }
 ],
 "metadata": {
  "kernelspec": {
   "display_name": "Python 3 (ipykernel)",
   "language": "python",
   "name": "python3"
  },
  "language_info": {
   "codemirror_mode": {
    "name": "ipython",
    "version": 3
   },
   "file_extension": ".py",
   "mimetype": "text/x-python",
   "name": "python",
   "nbconvert_exporter": "python",
   "pygments_lexer": "ipython3",
   "version": "3.10.1"
  }
 },
 "nbformat": 4,
 "nbformat_minor": 4
}
